{
 "cells": [
  {
   "cell_type": "markdown",
   "metadata": {},
   "source": [
    "# ML Project - Bar Sobel & Din Zur \n",
    "\n"
   ]
  },
  {
   "cell_type": "markdown",
   "metadata": {},
   "source": [
    "<u>Group 12 <u>"
   ]
  },
  {
   "cell_type": "markdown",
   "metadata": {},
   "source": [
    "Bar Sobel, ID - 206574584<br>\n",
    "Din Zur, ID - 209493782"
   ]
  },
  {
   "cell_type": "markdown",
   "metadata": {},
   "source": [
    "### Import libraries\n"
   ]
  },
  {
   "cell_type": "code",
   "execution_count": 1,
   "metadata": {},
   "outputs": [],
   "source": [
    "import pandas as pd\n",
    "import numpy as np\n",
    "import matplotlib.pyplot as plt\n",
    "import seaborn as sns\n",
    "\n",
    "from sklearn.preprocessing import MinMaxScaler\n",
    "from sklearn.feature_selection import SelectKBest, chi2\n",
    "from sklearn.model_selection import train_test_split, GridSearchCV, KFold\n",
    "from sklearn.decomposition import PCA\n",
    "\n",
    "from sklearn.linear_model import LogisticRegression\n",
    "from sklearn.neural_network import MLPClassifier\n",
    "from sklearn.neighbors import KNeighborsClassifier\n",
    "from sklearn.ensemble import RandomForestClassifier\n",
    "\n",
    "from sklearn.metrics import roc_curve,roc_auc_score, auc,confusion_matrix\n",
    "\n",
    "import warnings\n",
    "warnings.filterwarnings('ignore')"
   ]
  },
  {
   "cell_type": "markdown",
   "metadata": {},
   "source": [
    "### Load external data train set"
   ]
  },
  {
   "cell_type": "code",
   "execution_count": 2,
   "metadata": {},
   "outputs": [],
   "source": [
    "# Loading the data and working on a copy\n",
    "data_train_orginal = pd.read_csv(\"train.csv\")\n",
    "data = data_train_orginal.copy()\n",
    "train_pipeline = data_train_orginal.copy()"
   ]
  },
  {
   "cell_type": "markdown",
   "metadata": {},
   "source": [
    "### Load external data test set\n"
   ]
  },
  {
   "cell_type": "code",
   "execution_count": 3,
   "metadata": {},
   "outputs": [],
   "source": [
    "data_test_orginal = pd.read_csv(\"test.csv\")\n",
    "test = data_test_orginal.copy()\n",
    "test_pipeline = data_test_orginal.copy()"
   ]
  },
  {
   "cell_type": "markdown",
   "metadata": {},
   "source": [
    "##  <u>DATA EXPLOARTION <u>"
   ]
  },
  {
   "cell_type": "markdown",
   "metadata": {},
   "source": [
    "* ### Shape of the data"
   ]
  },
  {
   "cell_type": "code",
   "execution_count": 4,
   "metadata": {},
   "outputs": [
    {
     "name": "stdout",
     "output_type": "stream",
     "text": [
      "number of features: 21\n",
      "number of observations: 10479\n"
     ]
    }
   ],
   "source": [
    "# We want to see the shape of the data\n",
    "# We don't include in the number of features: the label column and the id column (because it's a serial number)\n",
    "print(f'number of features: {data.shape[1] - 2}')\n",
    "print(f'number of observations: {data.shape[0]}')"
   ]
  },
  {
   "cell_type": "markdown",
   "metadata": {},
   "source": [
    " * ###  Understanding the features' type"
   ]
  },
  {
   "cell_type": "markdown",
   "metadata": {},
   "source": [
    "We check the features' type in the train data.\n"
   ]
  },
  {
   "cell_type": "code",
   "execution_count": 5,
   "metadata": {},
   "outputs": [
    {
     "name": "stdout",
     "output_type": "stream",
     "text": [
      "<class 'pandas.core.frame.DataFrame'>\n",
      "RangeIndex: 10479 entries, 0 to 10478\n",
      "Data columns (total 23 columns):\n",
      " #   Column                 Non-Null Count  Dtype  \n",
      "---  ------                 --------------  -----  \n",
      " 0   id                     10479 non-null  int64  \n",
      " 1   num_of_admin_pages     9874 non-null   float64\n",
      " 2   admin_page_duration    10066 non-null  float64\n",
      " 3   num_of_info_pages      9792 non-null   float64\n",
      " 4   info_page_duration     10162 non-null  object \n",
      " 5   num_of_product_pages   10076 non-null  float64\n",
      " 6   product_page_duration  9858 non-null   object \n",
      " 7   total_duration         5726 non-null   float64\n",
      " 8   BounceRates            10457 non-null  float64\n",
      " 9   ExitRates              10453 non-null  float64\n",
      " 10  PageValues             10452 non-null  float64\n",
      " 11  closeness_to_holiday   9983 non-null   float64\n",
      " 12  Month                  10454 non-null  object \n",
      " 13  device                 10156 non-null  float64\n",
      " 14  internet_browser       9916 non-null   object \n",
      " 15  Region                 10460 non-null  float64\n",
      " 16  user_type              10456 non-null  object \n",
      " 17  Weekend                10456 non-null  object \n",
      " 18  A                      9773 non-null   object \n",
      " 19  B                      10456 non-null  float64\n",
      " 20  C                      10456 non-null  object \n",
      " 21  D                      105 non-null    float64\n",
      " 22  purchase               10479 non-null  int64  \n",
      "dtypes: float64(13), int64(2), object(8)\n",
      "memory usage: 1.8+ MB\n"
     ]
    }
   ],
   "source": [
    "# Getting information on the data\n",
    "data.info()"
   ]
  },
  {
   "cell_type": "code",
   "execution_count": 6,
   "metadata": {},
   "outputs": [
    {
     "name": "stdout",
     "output_type": "stream",
     "text": [
      "bool :[]\n",
      "numric :['num_of_admin_pages', 'admin_page_duration', 'num_of_info_pages', 'num_of_product_pages', 'total_duration', 'BounceRates', 'ExitRates', 'PageValues', 'closeness_to_holiday', 'device', 'Region', 'B', 'D']\n",
      "catagory :['info_page_duration', 'product_page_duration', 'Month', 'internet_browser', 'user_type', 'Weekend', 'A', 'C']\n"
     ]
    }
   ],
   "source": [
    "# Creating lists for the types\n",
    "bool_f = []\n",
    "numric_f = []\n",
    "catagoty_f = []\n",
    "\n",
    "# Adding each feature to the list he belongs to\n",
    "for i in data.columns[1:-1]:\n",
    "    if data[i].dtype == float:\n",
    "        numric_f.append(i)\n",
    "    if data[i].dtype == bool:\n",
    "        bool_f.append(i)\n",
    "    if data[i].dtype == object:\n",
    "        catagoty_f.append(i)\n",
    "\n",
    "print(f'bool :{bool_f}')\n",
    "print(f'numric :{numric_f}')\n",
    "print(f'catagory :{catagoty_f}')"
   ]
  },
  {
   "cell_type": "markdown",
   "metadata": {},
   "source": [
    "Based on the feature information we got from the project files, we decide to sort the features by this way:"
   ]
  },
  {
   "cell_type": "code",
   "execution_count": 7,
   "metadata": {},
   "outputs": [
    {
     "name": "stdout",
     "output_type": "stream",
     "text": [
      "bool_feature :['Weekend']\n",
      "numric_feature :['num_of_admin_pages', 'admin_page_duration', 'num_of_info_pages', 'info_page_duration', 'num_of_product_pages', 'product_page_duration', 'total_duration', 'BounceRates', 'ExitRates', 'PageValues', 'closeness_to_holiday', 'B', 'D']\n",
      "catagory_feature :['Month', 'device', 'internet_browser', 'Region', 'user_type', 'A', 'C']\n"
     ]
    }
   ],
   "source": [
    "categories_features = ['Month', 'device', 'internet_browser', 'Region', 'user_type', 'A', 'C']\n",
    "bool_features = ['Weekend']\n",
    "numeric_features = ['num_of_admin_pages', 'admin_page_duration', 'num_of_info_pages', 'info_page_duration', 'num_of_product_pages', 'product_page_duration', 'total_duration', 'BounceRates', 'ExitRates', 'PageValues', 'closeness_to_holiday', 'B', 'D']\n",
    "\n",
    "print(f'bool_feature :{bool_features}')\n",
    "print(f'numric_feature :{numeric_features}')\n",
    "print(f'catagory_feature :{categories_features}')"
   ]
  },
  {
   "cell_type": "markdown",
   "metadata": {},
   "source": [
    " * ### Plotting missing values"
   ]
  },
  {
   "cell_type": "code",
   "execution_count": 8,
   "metadata": {},
   "outputs": [
    {
     "data": {
      "text/plain": [
       "<matplotlib.legend.Legend at 0x23ebe9f0940>"
      ]
     },
     "execution_count": 8,
     "metadata": {},
     "output_type": "execute_result"
    },
    {
     "data": {
      "image/png": "[encoded data removed]",
      "text/plain": [
       "<Figure size 576x360 with 1 Axes>"
      ]
     },
     "metadata": {
      "needs_background": "light"
     },
     "output_type": "display_data"
    }
   ],
   "source": [
    "# Creating a new dataframe only with the missing values. We plotted them and a line that represents a threshold (80%)\n",
    "\n",
    "pd.DataFrame(data = (data.isnull().sum(axis = 0))).rename(columns = {0:'missing values'}).plot.bar(figsize=(8,5), color='blue')\n",
    "plt.axhline(y = 0.8*data.shape[0], color = 'silver', linestyle = '--', label='80% of the samples')\n",
    "plt.xlabel('Features', size = 14)\n",
    "plt.ylabel('missing values', size = 14)\n",
    "plt.title('Graph #1 - missing value for each feature', size = 14)\n",
    "plt.legend()"
   ]
  },
  {
   "cell_type": "markdown",
   "metadata": {},
   "source": [
    "As we can see, feature 'D' has more than 80% missing values. Therfore, we decide to drop it."
   ]
  },
  {
   "cell_type": "code",
   "execution_count": 9,
   "metadata": {},
   "outputs": [],
   "source": [
    "# Creating a list of features to drop and append the 'D' feature\n",
    "list_to_drop = []\n",
    "list_to_drop.append('D')"
   ]
  },
  {
   "cell_type": "markdown",
   "metadata": {},
   "source": [
    " * ### Data correlation"
   ]
  },
  {
   "cell_type": "code",
   "execution_count": 10,
   "metadata": {},
   "outputs": [
    {
     "data": {
      "text/html": [
       "<style  type=\"text/css\" >\n",
       "    #T_3a4103f4_1cad_11ed_9bf9_b07b255b6e77row0_col0 {\n",
       "            background-color:  #b40426;\n",
       "            color:  #f1f1f1;\n",
       "        }    #T_3a4103f4_1cad_11ed_9bf9_b07b255b6e77row0_col1 {\n",
       "            background-color:  #9fbfff;\n",
       "            color:  #000000;\n",
       "        }    #T_3a4103f4_1cad_11ed_9bf9_b07b255b6e77row0_col2 {\n",
       "            background-color:  #7da0f9;\n",
       "            color:  #000000;\n",
       "        }    #T_3a4103f4_1cad_11ed_9bf9_b07b255b6e77row0_col3 {\n",
       "            background-color:  #7b9ff9;\n",
       "            color:  #000000;\n",
       "        }    #T_3a4103f4_1cad_11ed_9bf9_b07b255b6e77row0_col4 {\n",
       "            background-color:  #b9d0f9;\n",
       "            color:  #000000;\n",
       "        }    #T_3a4103f4_1cad_11ed_9bf9_b07b255b6e77row0_col5 {\n",
       "            background-color:  #a9c6fd;\n",
       "            color:  #000000;\n",
       "        }    #T_3a4103f4_1cad_11ed_9bf9_b07b255b6e77row0_col6 {\n",
       "            background-color:  #6687ed;\n",
       "            color:  #000000;\n",
       "        }    #T_3a4103f4_1cad_11ed_9bf9_b07b255b6e77row0_col7 {\n",
       "            background-color:  #7597f6;\n",
       "            color:  #000000;\n",
       "        }    #T_3a4103f4_1cad_11ed_9bf9_b07b255b6e77row0_col8 {\n",
       "            background-color:  #aec9fc;\n",
       "            color:  #000000;\n",
       "        }    #T_3a4103f4_1cad_11ed_9bf9_b07b255b6e77row0_col9 {\n",
       "            background-color:  #3b4cc0;\n",
       "            color:  #f1f1f1;\n",
       "        }    #T_3a4103f4_1cad_11ed_9bf9_b07b255b6e77row0_col10 {\n",
       "            background-color:  #6b8df0;\n",
       "            color:  #000000;\n",
       "        }    #T_3a4103f4_1cad_11ed_9bf9_b07b255b6e77row0_col11 {\n",
       "            background-color:  #4c66d6;\n",
       "            color:  #000000;\n",
       "        }    #T_3a4103f4_1cad_11ed_9bf9_b07b255b6e77row0_col12 {\n",
       "            background-color:  #3d50c3;\n",
       "            color:  #f1f1f1;\n",
       "        }    #T_3a4103f4_1cad_11ed_9bf9_b07b255b6e77row0_col13 {\n",
       "            background-color:  #b2ccfb;\n",
       "            color:  #000000;\n",
       "        }    #T_3a4103f4_1cad_11ed_9bf9_b07b255b6e77row0_col14 {\n",
       "            background-color:  #dddcdc;\n",
       "            color:  #000000;\n",
       "        }    #T_3a4103f4_1cad_11ed_9bf9_b07b255b6e77row1_col0 {\n",
       "            background-color:  #8db0fe;\n",
       "            color:  #000000;\n",
       "        }    #T_3a4103f4_1cad_11ed_9bf9_b07b255b6e77row1_col1 {\n",
       "            background-color:  #b40426;\n",
       "            color:  #f1f1f1;\n",
       "        }    #T_3a4103f4_1cad_11ed_9bf9_b07b255b6e77row1_col2 {\n",
       "            background-color:  #f7b99e;\n",
       "            color:  #000000;\n",
       "        }    #T_3a4103f4_1cad_11ed_9bf9_b07b255b6e77row1_col3 {\n",
       "            background-color:  #d5dbe5;\n",
       "            color:  #000000;\n",
       "        }    #T_3a4103f4_1cad_11ed_9bf9_b07b255b6e77row1_col4 {\n",
       "            background-color:  #eed0c0;\n",
       "            color:  #000000;\n",
       "        }    #T_3a4103f4_1cad_11ed_9bf9_b07b255b6e77row1_col5 {\n",
       "            background-color:  #ecd3c5;\n",
       "            color:  #000000;\n",
       "        }    #T_3a4103f4_1cad_11ed_9bf9_b07b255b6e77row1_col6 {\n",
       "            background-color:  #3b4cc0;\n",
       "            color:  #f1f1f1;\n",
       "        }    #T_3a4103f4_1cad_11ed_9bf9_b07b255b6e77row1_col7 {\n",
       "            background-color:  #3b4cc0;\n",
       "            color:  #f1f1f1;\n",
       "        }    #T_3a4103f4_1cad_11ed_9bf9_b07b255b6e77row1_col8 {\n",
       "            background-color:  #bad0f8;\n",
       "            color:  #000000;\n",
       "        }    #T_3a4103f4_1cad_11ed_9bf9_b07b255b6e77row1_col9 {\n",
       "            background-color:  #5a78e4;\n",
       "            color:  #000000;\n",
       "        }    #T_3a4103f4_1cad_11ed_9bf9_b07b255b6e77row1_col10 {\n",
       "            background-color:  #5b7ae5;\n",
       "            color:  #000000;\n",
       "        }    #T_3a4103f4_1cad_11ed_9bf9_b07b255b6e77row1_col11 {\n",
       "            background-color:  #485fd1;\n",
       "            color:  #f1f1f1;\n",
       "        }    #T_3a4103f4_1cad_11ed_9bf9_b07b255b6e77row1_col12 {\n",
       "            background-color:  #3d50c3;\n",
       "            color:  #f1f1f1;\n",
       "        }    #T_3a4103f4_1cad_11ed_9bf9_b07b255b6e77row1_col13 {\n",
       "            background-color:  #a5c3fe;\n",
       "            color:  #000000;\n",
       "        }    #T_3a4103f4_1cad_11ed_9bf9_b07b255b6e77row1_col14 {\n",
       "            background-color:  #e0dbd8;\n",
       "            color:  #000000;\n",
       "        }    #T_3a4103f4_1cad_11ed_9bf9_b07b255b6e77row2_col0 {\n",
       "            background-color:  #82a6fb;\n",
       "            color:  #000000;\n",
       "        }    #T_3a4103f4_1cad_11ed_9bf9_b07b255b6e77row2_col1 {\n",
       "            background-color:  #f7b093;\n",
       "            color:  #000000;\n",
       "        }    #T_3a4103f4_1cad_11ed_9bf9_b07b255b6e77row2_col2 {\n",
       "            background-color:  #b40426;\n",
       "            color:  #f1f1f1;\n",
       "        }    #T_3a4103f4_1cad_11ed_9bf9_b07b255b6e77row2_col3 {\n",
       "            background-color:  #bfd3f6;\n",
       "            color:  #000000;\n",
       "        }    #T_3a4103f4_1cad_11ed_9bf9_b07b255b6e77row2_col4 {\n",
       "            background-color:  #d4dbe6;\n",
       "            color:  #000000;\n",
       "        }    #T_3a4103f4_1cad_11ed_9bf9_b07b255b6e77row2_col5 {\n",
       "            background-color:  #ebd3c6;\n",
       "            color:  #000000;\n",
       "        }    #T_3a4103f4_1cad_11ed_9bf9_b07b255b6e77row2_col6 {\n",
       "            background-color:  #4f69d9;\n",
       "            color:  #000000;\n",
       "        }    #T_3a4103f4_1cad_11ed_9bf9_b07b255b6e77row2_col7 {\n",
       "            background-color:  #5572df;\n",
       "            color:  #000000;\n",
       "        }    #T_3a4103f4_1cad_11ed_9bf9_b07b255b6e77row2_col8 {\n",
       "            background-color:  #b2ccfb;\n",
       "            color:  #000000;\n",
       "        }    #T_3a4103f4_1cad_11ed_9bf9_b07b255b6e77row2_col9 {\n",
       "            background-color:  #6282ea;\n",
       "            color:  #000000;\n",
       "        }    #T_3a4103f4_1cad_11ed_9bf9_b07b255b6e77row2_col10 {\n",
       "            background-color:  #5a78e4;\n",
       "            color:  #000000;\n",
       "        }    #T_3a4103f4_1cad_11ed_9bf9_b07b255b6e77row2_col11 {\n",
       "            background-color:  #4961d2;\n",
       "            color:  #f1f1f1;\n",
       "        }    #T_3a4103f4_1cad_11ed_9bf9_b07b255b6e77row2_col12 {\n",
       "            background-color:  #3c4ec2;\n",
       "            color:  #f1f1f1;\n",
       "        }    #T_3a4103f4_1cad_11ed_9bf9_b07b255b6e77row2_col13 {\n",
       "            background-color:  #b5cdfa;\n",
       "            color:  #000000;\n",
       "        }    #T_3a4103f4_1cad_11ed_9bf9_b07b255b6e77row2_col14 {\n",
       "            background-color:  #d9dce1;\n",
       "            color:  #000000;\n",
       "        }    #T_3a4103f4_1cad_11ed_9bf9_b07b255b6e77row3_col0 {\n",
       "            background-color:  #89acfd;\n",
       "            color:  #000000;\n",
       "        }    #T_3a4103f4_1cad_11ed_9bf9_b07b255b6e77row3_col1 {\n",
       "            background-color:  #e5d8d1;\n",
       "            color:  #000000;\n",
       "        }    #T_3a4103f4_1cad_11ed_9bf9_b07b255b6e77row3_col2 {\n",
       "            background-color:  #c5d6f2;\n",
       "            color:  #000000;\n",
       "        }    #T_3a4103f4_1cad_11ed_9bf9_b07b255b6e77row3_col3 {\n",
       "            background-color:  #b40426;\n",
       "            color:  #f1f1f1;\n",
       "        }    #T_3a4103f4_1cad_11ed_9bf9_b07b255b6e77row3_col4 {\n",
       "            background-color:  #e5d8d1;\n",
       "            color:  #000000;\n",
       "        }    #T_3a4103f4_1cad_11ed_9bf9_b07b255b6e77row3_col5 {\n",
       "            background-color:  #f1ccb8;\n",
       "            color:  #000000;\n",
       "        }    #T_3a4103f4_1cad_11ed_9bf9_b07b255b6e77row3_col6 {\n",
       "            background-color:  #5572df;\n",
       "            color:  #000000;\n",
       "        }    #T_3a4103f4_1cad_11ed_9bf9_b07b255b6e77row3_col7 {\n",
       "            background-color:  #5e7de7;\n",
       "            color:  #000000;\n",
       "        }    #T_3a4103f4_1cad_11ed_9bf9_b07b255b6e77row3_col8 {\n",
       "            background-color:  #adc9fd;\n",
       "            color:  #000000;\n",
       "        }    #T_3a4103f4_1cad_11ed_9bf9_b07b255b6e77row3_col9 {\n",
       "            background-color:  #6788ee;\n",
       "            color:  #000000;\n",
       "        }    #T_3a4103f4_1cad_11ed_9bf9_b07b255b6e77row3_col10 {\n",
       "            background-color:  #5a78e4;\n",
       "            color:  #000000;\n",
       "        }    #T_3a4103f4_1cad_11ed_9bf9_b07b255b6e77row3_col11 {\n",
       "            background-color:  #4055c8;\n",
       "            color:  #f1f1f1;\n",
       "        }    #T_3a4103f4_1cad_11ed_9bf9_b07b255b6e77row3_col12 {\n",
       "            background-color:  #3c4ec2;\n",
       "            color:  #f1f1f1;\n",
       "        }    #T_3a4103f4_1cad_11ed_9bf9_b07b255b6e77row3_col13 {\n",
       "            background-color:  #aac7fd;\n",
       "            color:  #000000;\n",
       "        }    #T_3a4103f4_1cad_11ed_9bf9_b07b255b6e77row3_col14 {\n",
       "            background-color:  #d8dce2;\n",
       "            color:  #000000;\n",
       "        }    #T_3a4103f4_1cad_11ed_9bf9_b07b255b6e77row4_col0 {\n",
       "            background-color:  #a7c5fe;\n",
       "            color:  #000000;\n",
       "        }    #T_3a4103f4_1cad_11ed_9bf9_b07b255b6e77row4_col1 {\n",
       "            background-color:  #edd1c2;\n",
       "            color:  #000000;\n",
       "        }    #T_3a4103f4_1cad_11ed_9bf9_b07b255b6e77row4_col2 {\n",
       "            background-color:  #c4d5f3;\n",
       "            color:  #000000;\n",
       "        }    #T_3a4103f4_1cad_11ed_9bf9_b07b255b6e77row4_col3 {\n",
       "            background-color:  #d5dbe5;\n",
       "            color:  #000000;\n",
       "        }    #T_3a4103f4_1cad_11ed_9bf9_b07b255b6e77row4_col4 {\n",
       "            background-color:  #b40426;\n",
       "            color:  #f1f1f1;\n",
       "        }    #T_3a4103f4_1cad_11ed_9bf9_b07b255b6e77row4_col5 {\n",
       "            background-color:  #d55042;\n",
       "            color:  #000000;\n",
       "        }    #T_3a4103f4_1cad_11ed_9bf9_b07b255b6e77row4_col6 {\n",
       "            background-color:  #3f53c6;\n",
       "            color:  #f1f1f1;\n",
       "        }    #T_3a4103f4_1cad_11ed_9bf9_b07b255b6e77row4_col7 {\n",
       "            background-color:  #3f53c6;\n",
       "            color:  #f1f1f1;\n",
       "        }    #T_3a4103f4_1cad_11ed_9bf9_b07b255b6e77row4_col8 {\n",
       "            background-color:  #afcafc;\n",
       "            color:  #000000;\n",
       "        }    #T_3a4103f4_1cad_11ed_9bf9_b07b255b6e77row4_col9 {\n",
       "            background-color:  #6e90f2;\n",
       "            color:  #000000;\n",
       "        }    #T_3a4103f4_1cad_11ed_9bf9_b07b255b6e77row4_col10 {\n",
       "            background-color:  #5e7de7;\n",
       "            color:  #000000;\n",
       "        }    #T_3a4103f4_1cad_11ed_9bf9_b07b255b6e77row4_col11 {\n",
       "            background-color:  #3d50c3;\n",
       "            color:  #f1f1f1;\n",
       "        }    #T_3a4103f4_1cad_11ed_9bf9_b07b255b6e77row4_col12 {\n",
       "            background-color:  #3c4ec2;\n",
       "            color:  #f1f1f1;\n",
       "        }    #T_3a4103f4_1cad_11ed_9bf9_b07b255b6e77row4_col13 {\n",
       "            background-color:  #8badfd;\n",
       "            color:  #000000;\n",
       "        }    #T_3a4103f4_1cad_11ed_9bf9_b07b255b6e77row4_col14 {\n",
       "            background-color:  #e1dad6;\n",
       "            color:  #000000;\n",
       "        }    #T_3a4103f4_1cad_11ed_9bf9_b07b255b6e77row5_col0 {\n",
       "            background-color:  #a1c0ff;\n",
       "            color:  #000000;\n",
       "        }    #T_3a4103f4_1cad_11ed_9bf9_b07b255b6e77row5_col1 {\n",
       "            background-color:  #efcfbf;\n",
       "            color:  #000000;\n",
       "        }    #T_3a4103f4_1cad_11ed_9bf9_b07b255b6e77row5_col2 {\n",
       "            background-color:  #e6d7cf;\n",
       "            color:  #000000;\n",
       "        }    #T_3a4103f4_1cad_11ed_9bf9_b07b255b6e77row5_col3 {\n",
       "            background-color:  #ecd3c5;\n",
       "            color:  #000000;\n",
       "        }    #T_3a4103f4_1cad_11ed_9bf9_b07b255b6e77row5_col4 {\n",
       "            background-color:  #d44e41;\n",
       "            color:  #000000;\n",
       "        }    #T_3a4103f4_1cad_11ed_9bf9_b07b255b6e77row5_col5 {\n",
       "            background-color:  #b40426;\n",
       "            color:  #f1f1f1;\n",
       "        }    #T_3a4103f4_1cad_11ed_9bf9_b07b255b6e77row5_col6 {\n",
       "            background-color:  #4257c9;\n",
       "            color:  #f1f1f1;\n",
       "        }    #T_3a4103f4_1cad_11ed_9bf9_b07b255b6e77row5_col7 {\n",
       "            background-color:  #465ecf;\n",
       "            color:  #f1f1f1;\n",
       "        }    #T_3a4103f4_1cad_11ed_9bf9_b07b255b6e77row5_col8 {\n",
       "            background-color:  #aec9fc;\n",
       "            color:  #000000;\n",
       "        }    #T_3a4103f4_1cad_11ed_9bf9_b07b255b6e77row5_col9 {\n",
       "            background-color:  #6788ee;\n",
       "            color:  #000000;\n",
       "        }    #T_3a4103f4_1cad_11ed_9bf9_b07b255b6e77row5_col10 {\n",
       "            background-color:  #5b7ae5;\n",
       "            color:  #000000;\n",
       "        }    #T_3a4103f4_1cad_11ed_9bf9_b07b255b6e77row5_col11 {\n",
       "            background-color:  #3d50c3;\n",
       "            color:  #f1f1f1;\n",
       "        }    #T_3a4103f4_1cad_11ed_9bf9_b07b255b6e77row5_col12 {\n",
       "            background-color:  #3b4cc0;\n",
       "            color:  #f1f1f1;\n",
       "        }    #T_3a4103f4_1cad_11ed_9bf9_b07b255b6e77row5_col13 {\n",
       "            background-color:  #9dbdff;\n",
       "            color:  #000000;\n",
       "        }    #T_3a4103f4_1cad_11ed_9bf9_b07b255b6e77row5_col14 {\n",
       "            background-color:  #e0dbd8;\n",
       "            color:  #000000;\n",
       "        }    #T_3a4103f4_1cad_11ed_9bf9_b07b255b6e77row6_col0 {\n",
       "            background-color:  #6687ed;\n",
       "            color:  #000000;\n",
       "        }    #T_3a4103f4_1cad_11ed_9bf9_b07b255b6e77row6_col1 {\n",
       "            background-color:  #506bda;\n",
       "            color:  #000000;\n",
       "        }    #T_3a4103f4_1cad_11ed_9bf9_b07b255b6e77row6_col2 {\n",
       "            background-color:  #4961d2;\n",
       "            color:  #f1f1f1;\n",
       "        }    #T_3a4103f4_1cad_11ed_9bf9_b07b255b6e77row6_col3 {\n",
       "            background-color:  #485fd1;\n",
       "            color:  #f1f1f1;\n",
       "        }    #T_3a4103f4_1cad_11ed_9bf9_b07b255b6e77row6_col4 {\n",
       "            background-color:  #5673e0;\n",
       "            color:  #000000;\n",
       "        }    #T_3a4103f4_1cad_11ed_9bf9_b07b255b6e77row6_col5 {\n",
       "            background-color:  #4b64d5;\n",
       "            color:  #f1f1f1;\n",
       "        }    #T_3a4103f4_1cad_11ed_9bf9_b07b255b6e77row6_col6 {\n",
       "            background-color:  #b40426;\n",
       "            color:  #f1f1f1;\n",
       "        }    #T_3a4103f4_1cad_11ed_9bf9_b07b255b6e77row6_col7 {\n",
       "            background-color:  #cc403a;\n",
       "            color:  #f1f1f1;\n",
       "        }    #T_3a4103f4_1cad_11ed_9bf9_b07b255b6e77row6_col8 {\n",
       "            background-color:  #85a8fc;\n",
       "            color:  #000000;\n",
       "        }    #T_3a4103f4_1cad_11ed_9bf9_b07b255b6e77row6_col9 {\n",
       "            background-color:  #8db0fe;\n",
       "            color:  #000000;\n",
       "        }    #T_3a4103f4_1cad_11ed_9bf9_b07b255b6e77row6_col10 {\n",
       "            background-color:  #6687ed;\n",
       "            color:  #000000;\n",
       "        }    #T_3a4103f4_1cad_11ed_9bf9_b07b255b6e77row6_col11 {\n",
       "            background-color:  #485fd1;\n",
       "            color:  #f1f1f1;\n",
       "        }    #T_3a4103f4_1cad_11ed_9bf9_b07b255b6e77row6_col12 {\n",
       "            background-color:  #445acc;\n",
       "            color:  #f1f1f1;\n",
       "        }    #T_3a4103f4_1cad_11ed_9bf9_b07b255b6e77row6_col13 {\n",
       "            background-color:  #e0dbd8;\n",
       "            color:  #000000;\n",
       "        }    #T_3a4103f4_1cad_11ed_9bf9_b07b255b6e77row6_col14 {\n",
       "            background-color:  #adc9fd;\n",
       "            color:  #000000;\n",
       "        }    #T_3a4103f4_1cad_11ed_9bf9_b07b255b6e77row7_col0 {\n",
       "            background-color:  #6180e9;\n",
       "            color:  #000000;\n",
       "        }    #T_3a4103f4_1cad_11ed_9bf9_b07b255b6e77row7_col1 {\n",
       "            background-color:  #3b4cc0;\n",
       "            color:  #f1f1f1;\n",
       "        }    #T_3a4103f4_1cad_11ed_9bf9_b07b255b6e77row7_col2 {\n",
       "            background-color:  #3b4cc0;\n",
       "            color:  #f1f1f1;\n",
       "        }    #T_3a4103f4_1cad_11ed_9bf9_b07b255b6e77row7_col3 {\n",
       "            background-color:  #3b4cc0;\n",
       "            color:  #f1f1f1;\n",
       "        }    #T_3a4103f4_1cad_11ed_9bf9_b07b255b6e77row7_col4 {\n",
       "            background-color:  #4257c9;\n",
       "            color:  #f1f1f1;\n",
       "        }    #T_3a4103f4_1cad_11ed_9bf9_b07b255b6e77row7_col5 {\n",
       "            background-color:  #3b4cc0;\n",
       "            color:  #f1f1f1;\n",
       "        }    #T_3a4103f4_1cad_11ed_9bf9_b07b255b6e77row7_col6 {\n",
       "            background-color:  #cd423b;\n",
       "            color:  #f1f1f1;\n",
       "        }    #T_3a4103f4_1cad_11ed_9bf9_b07b255b6e77row7_col7 {\n",
       "            background-color:  #b40426;\n",
       "            color:  #f1f1f1;\n",
       "        }    #T_3a4103f4_1cad_11ed_9bf9_b07b255b6e77row7_col8 {\n",
       "            background-color:  #779af7;\n",
       "            color:  #000000;\n",
       "        }    #T_3a4103f4_1cad_11ed_9bf9_b07b255b6e77row7_col9 {\n",
       "            background-color:  #96b7ff;\n",
       "            color:  #000000;\n",
       "        }    #T_3a4103f4_1cad_11ed_9bf9_b07b255b6e77row7_col10 {\n",
       "            background-color:  #6282ea;\n",
       "            color:  #000000;\n",
       "        }    #T_3a4103f4_1cad_11ed_9bf9_b07b255b6e77row7_col11 {\n",
       "            background-color:  #465ecf;\n",
       "            color:  #f1f1f1;\n",
       "        }    #T_3a4103f4_1cad_11ed_9bf9_b07b255b6e77row7_col12 {\n",
       "            background-color:  #445acc;\n",
       "            color:  #f1f1f1;\n",
       "        }    #T_3a4103f4_1cad_11ed_9bf9_b07b255b6e77row7_col13 {\n",
       "            background-color:  #ebd3c6;\n",
       "            color:  #000000;\n",
       "        }    #T_3a4103f4_1cad_11ed_9bf9_b07b255b6e77row7_col14 {\n",
       "            background-color:  #a2c1ff;\n",
       "            color:  #000000;\n",
       "        }    #T_3a4103f4_1cad_11ed_9bf9_b07b255b6e77row8_col0 {\n",
       "            background-color:  #85a8fc;\n",
       "            color:  #000000;\n",
       "        }    #T_3a4103f4_1cad_11ed_9bf9_b07b255b6e77row8_col1 {\n",
       "            background-color:  #a5c3fe;\n",
       "            color:  #000000;\n",
       "        }    #T_3a4103f4_1cad_11ed_9bf9_b07b255b6e77row8_col2 {\n",
       "            background-color:  #84a7fc;\n",
       "            color:  #000000;\n",
       "        }    #T_3a4103f4_1cad_11ed_9bf9_b07b255b6e77row8_col3 {\n",
       "            background-color:  #7597f6;\n",
       "            color:  #000000;\n",
       "        }    #T_3a4103f4_1cad_11ed_9bf9_b07b255b6e77row8_col4 {\n",
       "            background-color:  #9bbcff;\n",
       "            color:  #000000;\n",
       "        }    #T_3a4103f4_1cad_11ed_9bf9_b07b255b6e77row8_col5 {\n",
       "            background-color:  #8db0fe;\n",
       "            color:  #000000;\n",
       "        }    #T_3a4103f4_1cad_11ed_9bf9_b07b255b6e77row8_col6 {\n",
       "            background-color:  #5572df;\n",
       "            color:  #000000;\n",
       "        }    #T_3a4103f4_1cad_11ed_9bf9_b07b255b6e77row8_col7 {\n",
       "            background-color:  #5d7ce6;\n",
       "            color:  #000000;\n",
       "        }    #T_3a4103f4_1cad_11ed_9bf9_b07b255b6e77row8_col8 {\n",
       "            background-color:  #b40426;\n",
       "            color:  #f1f1f1;\n",
       "        }    #T_3a4103f4_1cad_11ed_9bf9_b07b255b6e77row8_col9 {\n",
       "            background-color:  #6485ec;\n",
       "            color:  #000000;\n",
       "        }    #T_3a4103f4_1cad_11ed_9bf9_b07b255b6e77row8_col10 {\n",
       "            background-color:  #6384eb;\n",
       "            color:  #000000;\n",
       "        }    #T_3a4103f4_1cad_11ed_9bf9_b07b255b6e77row8_col11 {\n",
       "            background-color:  #4c66d6;\n",
       "            color:  #000000;\n",
       "        }    #T_3a4103f4_1cad_11ed_9bf9_b07b255b6e77row8_col12 {\n",
       "            background-color:  #3e51c5;\n",
       "            color:  #f1f1f1;\n",
       "        }    #T_3a4103f4_1cad_11ed_9bf9_b07b255b6e77row8_col13 {\n",
       "            background-color:  #7295f4;\n",
       "            color:  #000000;\n",
       "        }    #T_3a4103f4_1cad_11ed_9bf9_b07b255b6e77row8_col14 {\n",
       "            background-color:  #f7a98b;\n",
       "            color:  #000000;\n",
       "        }    #T_3a4103f4_1cad_11ed_9bf9_b07b255b6e77row9_col0 {\n",
       "            background-color:  #3b4cc0;\n",
       "            color:  #f1f1f1;\n",
       "        }    #T_3a4103f4_1cad_11ed_9bf9_b07b255b6e77row9_col1 {\n",
       "            background-color:  #6f92f3;\n",
       "            color:  #000000;\n",
       "        }    #T_3a4103f4_1cad_11ed_9bf9_b07b255b6e77row9_col2 {\n",
       "            background-color:  #5b7ae5;\n",
       "            color:  #000000;\n",
       "        }    #T_3a4103f4_1cad_11ed_9bf9_b07b255b6e77row9_col3 {\n",
       "            background-color:  #5977e3;\n",
       "            color:  #000000;\n",
       "        }    #T_3a4103f4_1cad_11ed_9bf9_b07b255b6e77row9_col4 {\n",
       "            background-color:  #84a7fc;\n",
       "            color:  #000000;\n",
       "        }    #T_3a4103f4_1cad_11ed_9bf9_b07b255b6e77row9_col5 {\n",
       "            background-color:  #7093f3;\n",
       "            color:  #000000;\n",
       "        }    #T_3a4103f4_1cad_11ed_9bf9_b07b255b6e77row9_col6 {\n",
       "            background-color:  #8caffe;\n",
       "            color:  #000000;\n",
       "        }    #T_3a4103f4_1cad_11ed_9bf9_b07b255b6e77row9_col7 {\n",
       "            background-color:  #a7c5fe;\n",
       "            color:  #000000;\n",
       "        }    #T_3a4103f4_1cad_11ed_9bf9_b07b255b6e77row9_col8 {\n",
       "            background-color:  #93b5fe;\n",
       "            color:  #000000;\n",
       "        }    #T_3a4103f4_1cad_11ed_9bf9_b07b255b6e77row9_col9 {\n",
       "            background-color:  #b40426;\n",
       "            color:  #f1f1f1;\n",
       "        }    #T_3a4103f4_1cad_11ed_9bf9_b07b255b6e77row9_col10 {\n",
       "            background-color:  #6384eb;\n",
       "            color:  #000000;\n",
       "        }    #T_3a4103f4_1cad_11ed_9bf9_b07b255b6e77row9_col11 {\n",
       "            background-color:  #465ecf;\n",
       "            color:  #f1f1f1;\n",
       "        }    #T_3a4103f4_1cad_11ed_9bf9_b07b255b6e77row9_col12 {\n",
       "            background-color:  #4055c8;\n",
       "            color:  #f1f1f1;\n",
       "        }    #T_3a4103f4_1cad_11ed_9bf9_b07b255b6e77row9_col13 {\n",
       "            background-color:  #e4d9d2;\n",
       "            color:  #000000;\n",
       "        }    #T_3a4103f4_1cad_11ed_9bf9_b07b255b6e77row9_col14 {\n",
       "            background-color:  #bad0f8;\n",
       "            color:  #000000;\n",
       "        }    #T_3a4103f4_1cad_11ed_9bf9_b07b255b6e77row10_col0 {\n",
       "            background-color:  #82a6fb;\n",
       "            color:  #000000;\n",
       "        }    #T_3a4103f4_1cad_11ed_9bf9_b07b255b6e77row10_col1 {\n",
       "            background-color:  #86a9fc;\n",
       "            color:  #000000;\n",
       "        }    #T_3a4103f4_1cad_11ed_9bf9_b07b255b6e77row10_col2 {\n",
       "            background-color:  #6c8ff1;\n",
       "            color:  #000000;\n",
       "        }    #T_3a4103f4_1cad_11ed_9bf9_b07b255b6e77row10_col3 {\n",
       "            background-color:  #6485ec;\n",
       "            color:  #000000;\n",
       "        }    #T_3a4103f4_1cad_11ed_9bf9_b07b255b6e77row10_col4 {\n",
       "            background-color:  #8caffe;\n",
       "            color:  #000000;\n",
       "        }    #T_3a4103f4_1cad_11ed_9bf9_b07b255b6e77row10_col5 {\n",
       "            background-color:  #7da0f9;\n",
       "            color:  #000000;\n",
       "        }    #T_3a4103f4_1cad_11ed_9bf9_b07b255b6e77row10_col6 {\n",
       "            background-color:  #7b9ff9;\n",
       "            color:  #000000;\n",
       "        }    #T_3a4103f4_1cad_11ed_9bf9_b07b255b6e77row10_col7 {\n",
       "            background-color:  #8db0fe;\n",
       "            color:  #000000;\n",
       "        }    #T_3a4103f4_1cad_11ed_9bf9_b07b255b6e77row10_col8 {\n",
       "            background-color:  #a6c4fe;\n",
       "            color:  #000000;\n",
       "        }    #T_3a4103f4_1cad_11ed_9bf9_b07b255b6e77row10_col9 {\n",
       "            background-color:  #7a9df8;\n",
       "            color:  #000000;\n",
       "        }    #T_3a4103f4_1cad_11ed_9bf9_b07b255b6e77row10_col10 {\n",
       "            background-color:  #b40426;\n",
       "            color:  #f1f1f1;\n",
       "        }    #T_3a4103f4_1cad_11ed_9bf9_b07b255b6e77row10_col11 {\n",
       "            background-color:  #6282ea;\n",
       "            color:  #000000;\n",
       "        }    #T_3a4103f4_1cad_11ed_9bf9_b07b255b6e77row10_col12 {\n",
       "            background-color:  #4358cb;\n",
       "            color:  #f1f1f1;\n",
       "        }    #T_3a4103f4_1cad_11ed_9bf9_b07b255b6e77row10_col13 {\n",
       "            background-color:  #b1cbfc;\n",
       "            color:  #000000;\n",
       "        }    #T_3a4103f4_1cad_11ed_9bf9_b07b255b6e77row10_col14 {\n",
       "            background-color:  #c6d6f1;\n",
       "            color:  #000000;\n",
       "        }    #T_3a4103f4_1cad_11ed_9bf9_b07b255b6e77row11_col0 {\n",
       "            background-color:  #799cf8;\n",
       "            color:  #000000;\n",
       "        }    #T_3a4103f4_1cad_11ed_9bf9_b07b255b6e77row11_col1 {\n",
       "            background-color:  #88abfd;\n",
       "            color:  #000000;\n",
       "        }    #T_3a4103f4_1cad_11ed_9bf9_b07b255b6e77row11_col2 {\n",
       "            background-color:  #6f92f3;\n",
       "            color:  #000000;\n",
       "        }    #T_3a4103f4_1cad_11ed_9bf9_b07b255b6e77row11_col3 {\n",
       "            background-color:  #5e7de7;\n",
       "            color:  #000000;\n",
       "        }    #T_3a4103f4_1cad_11ed_9bf9_b07b255b6e77row11_col4 {\n",
       "            background-color:  #80a3fa;\n",
       "            color:  #000000;\n",
       "        }    #T_3a4103f4_1cad_11ed_9bf9_b07b255b6e77row11_col5 {\n",
       "            background-color:  #7295f4;\n",
       "            color:  #000000;\n",
       "        }    #T_3a4103f4_1cad_11ed_9bf9_b07b255b6e77row11_col6 {\n",
       "            background-color:  #7295f4;\n",
       "            color:  #000000;\n",
       "        }    #T_3a4103f4_1cad_11ed_9bf9_b07b255b6e77row11_col7 {\n",
       "            background-color:  #86a9fc;\n",
       "            color:  #000000;\n",
       "        }    #T_3a4103f4_1cad_11ed_9bf9_b07b255b6e77row11_col8 {\n",
       "            background-color:  #a3c2fe;\n",
       "            color:  #000000;\n",
       "        }    #T_3a4103f4_1cad_11ed_9bf9_b07b255b6e77row11_col9 {\n",
       "            background-color:  #7295f4;\n",
       "            color:  #000000;\n",
       "        }    #T_3a4103f4_1cad_11ed_9bf9_b07b255b6e77row11_col10 {\n",
       "            background-color:  #7699f6;\n",
       "            color:  #000000;\n",
       "        }    #T_3a4103f4_1cad_11ed_9bf9_b07b255b6e77row11_col11 {\n",
       "            background-color:  #b40426;\n",
       "            color:  #f1f1f1;\n",
       "        }    #T_3a4103f4_1cad_11ed_9bf9_b07b255b6e77row11_col12 {\n",
       "            background-color:  #4257c9;\n",
       "            color:  #f1f1f1;\n",
       "        }    #T_3a4103f4_1cad_11ed_9bf9_b07b255b6e77row11_col13 {\n",
       "            background-color:  #c0d4f5;\n",
       "            color:  #000000;\n",
       "        }    #T_3a4103f4_1cad_11ed_9bf9_b07b255b6e77row11_col14 {\n",
       "            background-color:  #c7d7f0;\n",
       "            color:  #000000;\n",
       "        }    #T_3a4103f4_1cad_11ed_9bf9_b07b255b6e77row12_col0 {\n",
       "            background-color:  #7093f3;\n",
       "            color:  #000000;\n",
       "        }    #T_3a4103f4_1cad_11ed_9bf9_b07b255b6e77row12_col1 {\n",
       "            background-color:  #85a8fc;\n",
       "            color:  #000000;\n",
       "        }    #T_3a4103f4_1cad_11ed_9bf9_b07b255b6e77row12_col2 {\n",
       "            background-color:  #6b8df0;\n",
       "            color:  #000000;\n",
       "        }    #T_3a4103f4_1cad_11ed_9bf9_b07b255b6e77row12_col3 {\n",
       "            background-color:  #6282ea;\n",
       "            color:  #000000;\n",
       "        }    #T_3a4103f4_1cad_11ed_9bf9_b07b255b6e77row12_col4 {\n",
       "            background-color:  #86a9fc;\n",
       "            color:  #000000;\n",
       "        }    #T_3a4103f4_1cad_11ed_9bf9_b07b255b6e77row12_col5 {\n",
       "            background-color:  #779af7;\n",
       "            color:  #000000;\n",
       "        }    #T_3a4103f4_1cad_11ed_9bf9_b07b255b6e77row12_col6 {\n",
       "            background-color:  #779af7;\n",
       "            color:  #000000;\n",
       "        }    #T_3a4103f4_1cad_11ed_9bf9_b07b255b6e77row12_col7 {\n",
       "            background-color:  #8caffe;\n",
       "            color:  #000000;\n",
       "        }    #T_3a4103f4_1cad_11ed_9bf9_b07b255b6e77row12_col8 {\n",
       "            background-color:  #9ebeff;\n",
       "            color:  #000000;\n",
       "        }    #T_3a4103f4_1cad_11ed_9bf9_b07b255b6e77row12_col9 {\n",
       "            background-color:  #7597f6;\n",
       "            color:  #000000;\n",
       "        }    #T_3a4103f4_1cad_11ed_9bf9_b07b255b6e77row12_col10 {\n",
       "            background-color:  #5f7fe8;\n",
       "            color:  #000000;\n",
       "        }    #T_3a4103f4_1cad_11ed_9bf9_b07b255b6e77row12_col11 {\n",
       "            background-color:  #4a63d3;\n",
       "            color:  #f1f1f1;\n",
       "        }    #T_3a4103f4_1cad_11ed_9bf9_b07b255b6e77row12_col12 {\n",
       "            background-color:  #b40426;\n",
       "            color:  #f1f1f1;\n",
       "        }    #T_3a4103f4_1cad_11ed_9bf9_b07b255b6e77row12_col13 {\n",
       "            background-color:  #d1dae9;\n",
       "            color:  #000000;\n",
       "        }    #T_3a4103f4_1cad_11ed_9bf9_b07b255b6e77row12_col14 {\n",
       "            background-color:  #c9d7f0;\n",
       "            color:  #000000;\n",
       "        }    #T_3a4103f4_1cad_11ed_9bf9_b07b255b6e77row13_col0 {\n",
       "            background-color:  #536edd;\n",
       "            color:  #000000;\n",
       "        }    #T_3a4103f4_1cad_11ed_9bf9_b07b255b6e77row13_col1 {\n",
       "            background-color:  #5673e0;\n",
       "            color:  #000000;\n",
       "        }    #T_3a4103f4_1cad_11ed_9bf9_b07b255b6e77row13_col2 {\n",
       "            background-color:  #516ddb;\n",
       "            color:  #000000;\n",
       "        }    #T_3a4103f4_1cad_11ed_9bf9_b07b255b6e77row13_col3 {\n",
       "            background-color:  #3b4cc0;\n",
       "            color:  #f1f1f1;\n",
       "        }    #T_3a4103f4_1cad_11ed_9bf9_b07b255b6e77row13_col4 {\n",
       "            background-color:  #3b4cc0;\n",
       "            color:  #f1f1f1;\n",
       "        }    #T_3a4103f4_1cad_11ed_9bf9_b07b255b6e77row13_col5 {\n",
       "            background-color:  #4055c8;\n",
       "            color:  #f1f1f1;\n",
       "        }    #T_3a4103f4_1cad_11ed_9bf9_b07b255b6e77row13_col6 {\n",
       "            background-color:  #9fbfff;\n",
       "            color:  #000000;\n",
       "        }    #T_3a4103f4_1cad_11ed_9bf9_b07b255b6e77row13_col7 {\n",
       "            background-color:  #c5d6f2;\n",
       "            color:  #000000;\n",
       "        }    #T_3a4103f4_1cad_11ed_9bf9_b07b255b6e77row13_col8 {\n",
       "            background-color:  #3b4cc0;\n",
       "            color:  #f1f1f1;\n",
       "        }    #T_3a4103f4_1cad_11ed_9bf9_b07b255b6e77row13_col9 {\n",
       "            background-color:  #a7c5fe;\n",
       "            color:  #000000;\n",
       "        }    #T_3a4103f4_1cad_11ed_9bf9_b07b255b6e77row13_col10 {\n",
       "            background-color:  #3b4cc0;\n",
       "            color:  #f1f1f1;\n",
       "        }    #T_3a4103f4_1cad_11ed_9bf9_b07b255b6e77row13_col11 {\n",
       "            background-color:  #3b4cc0;\n",
       "            color:  #f1f1f1;\n",
       "        }    #T_3a4103f4_1cad_11ed_9bf9_b07b255b6e77row13_col12 {\n",
       "            background-color:  #4f69d9;\n",
       "            color:  #000000;\n",
       "        }    #T_3a4103f4_1cad_11ed_9bf9_b07b255b6e77row13_col13 {\n",
       "            background-color:  #b40426;\n",
       "            color:  #f1f1f1;\n",
       "        }    #T_3a4103f4_1cad_11ed_9bf9_b07b255b6e77row13_col14 {\n",
       "            background-color:  #3b4cc0;\n",
       "            color:  #f1f1f1;\n",
       "        }    #T_3a4103f4_1cad_11ed_9bf9_b07b255b6e77row14_col0 {\n",
       "            background-color:  #9abbff;\n",
       "            color:  #000000;\n",
       "        }    #T_3a4103f4_1cad_11ed_9bf9_b07b255b6e77row14_col1 {\n",
       "            background-color:  #afcafc;\n",
       "            color:  #000000;\n",
       "        }    #T_3a4103f4_1cad_11ed_9bf9_b07b255b6e77row14_col2 {\n",
       "            background-color:  #8caffe;\n",
       "            color:  #000000;\n",
       "        }    #T_3a4103f4_1cad_11ed_9bf9_b07b255b6e77row14_col3 {\n",
       "            background-color:  #84a7fc;\n",
       "            color:  #000000;\n",
       "        }    #T_3a4103f4_1cad_11ed_9bf9_b07b255b6e77row14_col4 {\n",
       "            background-color:  #b5cdfa;\n",
       "            color:  #000000;\n",
       "        }    #T_3a4103f4_1cad_11ed_9bf9_b07b255b6e77row14_col5 {\n",
       "            background-color:  #a7c5fe;\n",
       "            color:  #000000;\n",
       "        }    #T_3a4103f4_1cad_11ed_9bf9_b07b255b6e77row14_col6 {\n",
       "            background-color:  #4c66d6;\n",
       "            color:  #000000;\n",
       "        }    #T_3a4103f4_1cad_11ed_9bf9_b07b255b6e77row14_col7 {\n",
       "            background-color:  #5470de;\n",
       "            color:  #000000;\n",
       "        }    #T_3a4103f4_1cad_11ed_9bf9_b07b255b6e77row14_col8 {\n",
       "            background-color:  #f6bea4;\n",
       "            color:  #000000;\n",
       "        }    #T_3a4103f4_1cad_11ed_9bf9_b07b255b6e77row14_col9 {\n",
       "            background-color:  #5e7de7;\n",
       "            color:  #000000;\n",
       "        }    #T_3a4103f4_1cad_11ed_9bf9_b07b255b6e77row14_col10 {\n",
       "            background-color:  #5875e1;\n",
       "            color:  #000000;\n",
       "        }    #T_3a4103f4_1cad_11ed_9bf9_b07b255b6e77row14_col11 {\n",
       "            background-color:  #465ecf;\n",
       "            color:  #f1f1f1;\n",
       "        }    #T_3a4103f4_1cad_11ed_9bf9_b07b255b6e77row14_col12 {\n",
       "            background-color:  #4055c8;\n",
       "            color:  #f1f1f1;\n",
       "        }    #T_3a4103f4_1cad_11ed_9bf9_b07b255b6e77row14_col13 {\n",
       "            background-color:  #3b4cc0;\n",
       "            color:  #f1f1f1;\n",
       "        }    #T_3a4103f4_1cad_11ed_9bf9_b07b255b6e77row14_col14 {\n",
       "            background-color:  #b40426;\n",
       "            color:  #f1f1f1;\n",
       "        }</style><table id=\"T_3a4103f4_1cad_11ed_9bf9_b07b255b6e77\" ><thead>    <tr>        <th class=\"blank level0\" ></th>        <th class=\"col_heading level0 col0\" >id</th>        <th class=\"col_heading level0 col1\" >num_of_admin_pages</th>        <th class=\"col_heading level0 col2\" >admin_page_duration</th>        <th class=\"col_heading level0 col3\" >num_of_info_pages</th>        <th class=\"col_heading level0 col4\" >num_of_product_pages</th>        <th class=\"col_heading level0 col5\" >total_duration</th>        <th class=\"col_heading level0 col6\" >BounceRates</th>        <th class=\"col_heading level0 col7\" >ExitRates</th>        <th class=\"col_heading level0 col8\" >PageValues</th>        <th class=\"col_heading level0 col9\" >closeness_to_holiday</th>        <th class=\"col_heading level0 col10\" >device</th>        <th class=\"col_heading level0 col11\" >Region</th>        <th class=\"col_heading level0 col12\" >B</th>        <th class=\"col_heading level0 col13\" >D</th>        <th class=\"col_heading level0 col14\" >purchase</th>    </tr></thead><tbody>\n",
       "                <tr>\n",
       "                        <th id=\"T_3a4103f4_1cad_11ed_9bf9_b07b255b6e77level0_row0\" class=\"row_heading level0 row0\" >id</th>\n",
       "                        <td id=\"T_3a4103f4_1cad_11ed_9bf9_b07b255b6e77row0_col0\" class=\"data row0 col0\" >1.000000</td>\n",
       "                        <td id=\"T_3a4103f4_1cad_11ed_9bf9_b07b255b6e77row0_col1\" class=\"data row0 col1\" >0.082526</td>\n",
       "                        <td id=\"T_3a4103f4_1cad_11ed_9bf9_b07b255b6e77row0_col2\" class=\"data row0 col2\" >0.044857</td>\n",
       "                        <td id=\"T_3a4103f4_1cad_11ed_9bf9_b07b255b6e77row0_col3\" class=\"data row0 col3\" >0.066631</td>\n",
       "                        <td id=\"T_3a4103f4_1cad_11ed_9bf9_b07b255b6e77row0_col4\" class=\"data row0 col4\" >0.173407</td>\n",
       "                        <td id=\"T_3a4103f4_1cad_11ed_9bf9_b07b255b6e77row0_col5\" class=\"data row0 col5\" >0.151529</td>\n",
       "                        <td id=\"T_3a4103f4_1cad_11ed_9bf9_b07b255b6e77row0_col6\" class=\"data row0 col6\" >-0.054239</td>\n",
       "                        <td id=\"T_3a4103f4_1cad_11ed_9bf9_b07b255b6e77row0_col7\" class=\"data row0 col7\" >-0.077429</td>\n",
       "                        <td id=\"T_3a4103f4_1cad_11ed_9bf9_b07b255b6e77row0_col8\" class=\"data row0 col8\" >0.053881</td>\n",
       "                        <td id=\"T_3a4103f4_1cad_11ed_9bf9_b07b255b6e77row0_col9\" class=\"data row0 col9\" >-0.225908</td>\n",
       "                        <td id=\"T_3a4103f4_1cad_11ed_9bf9_b07b255b6e77row0_col10\" class=\"data row0 col10\" >0.043127</td>\n",
       "                        <td id=\"T_3a4103f4_1cad_11ed_9bf9_b07b255b6e77row0_col11\" class=\"data row0 col11\" >0.010513</td>\n",
       "                        <td id=\"T_3a4103f4_1cad_11ed_9bf9_b07b255b6e77row0_col12\" class=\"data row0 col12\" >-0.016671</td>\n",
       "                        <td id=\"T_3a4103f4_1cad_11ed_9bf9_b07b255b6e77row0_col13\" class=\"data row0 col13\" >-0.129515</td>\n",
       "                        <td id=\"T_3a4103f4_1cad_11ed_9bf9_b07b255b6e77row0_col14\" class=\"data row0 col14\" >0.124522</td>\n",
       "            </tr>\n",
       "            <tr>\n",
       "                        <th id=\"T_3a4103f4_1cad_11ed_9bf9_b07b255b6e77level0_row1\" class=\"row_heading level0 row1\" >num_of_admin_pages</th>\n",
       "                        <td id=\"T_3a4103f4_1cad_11ed_9bf9_b07b255b6e77row1_col0\" class=\"data row1 col0\" >0.082526</td>\n",
       "                        <td id=\"T_3a4103f4_1cad_11ed_9bf9_b07b255b6e77row1_col1\" class=\"data row1 col1\" >1.000000</td>\n",
       "                        <td id=\"T_3a4103f4_1cad_11ed_9bf9_b07b255b6e77row1_col2\" class=\"data row1 col2\" >0.591505</td>\n",
       "                        <td id=\"T_3a4103f4_1cad_11ed_9bf9_b07b255b6e77row1_col3\" class=\"data row1 col3\" >0.383974</td>\n",
       "                        <td id=\"T_3a4103f4_1cad_11ed_9bf9_b07b255b6e77row1_col4\" class=\"data row1 col4\" >0.436619</td>\n",
       "                        <td id=\"T_3a4103f4_1cad_11ed_9bf9_b07b255b6e77row1_col5\" class=\"data row1 col5\" >0.447180</td>\n",
       "                        <td id=\"T_3a4103f4_1cad_11ed_9bf9_b07b255b6e77row1_col6\" class=\"data row1 col6\" >-0.222772</td>\n",
       "                        <td id=\"T_3a4103f4_1cad_11ed_9bf9_b07b255b6e77row1_col7\" class=\"data row1 col7\" >-0.317713</td>\n",
       "                        <td id=\"T_3a4103f4_1cad_11ed_9bf9_b07b255b6e77row1_col8\" class=\"data row1 col8\" >0.102648</td>\n",
       "                        <td id=\"T_3a4103f4_1cad_11ed_9bf9_b07b255b6e77row1_col9\" class=\"data row1 col9\" >-0.099734</td>\n",
       "                        <td id=\"T_3a4103f4_1cad_11ed_9bf9_b07b255b6e77row1_col10\" class=\"data row1 col10\" >-0.010604</td>\n",
       "                        <td id=\"T_3a4103f4_1cad_11ed_9bf9_b07b255b6e77row1_col11\" class=\"data row1 col11\" >-0.007737</td>\n",
       "                        <td id=\"T_3a4103f4_1cad_11ed_9bf9_b07b255b6e77row1_col12\" class=\"data row1 col12\" >-0.016465</td>\n",
       "                        <td id=\"T_3a4103f4_1cad_11ed_9bf9_b07b255b6e77row1_col13\" class=\"data row1 col13\" >-0.197337</td>\n",
       "                        <td id=\"T_3a4103f4_1cad_11ed_9bf9_b07b255b6e77row1_col14\" class=\"data row1 col14\" >0.145048</td>\n",
       "            </tr>\n",
       "            <tr>\n",
       "                        <th id=\"T_3a4103f4_1cad_11ed_9bf9_b07b255b6e77level0_row2\" class=\"row_heading level0 row2\" >admin_page_duration</th>\n",
       "                        <td id=\"T_3a4103f4_1cad_11ed_9bf9_b07b255b6e77row2_col0\" class=\"data row2 col0\" >0.044857</td>\n",
       "                        <td id=\"T_3a4103f4_1cad_11ed_9bf9_b07b255b6e77row2_col1\" class=\"data row2 col1\" >0.591505</td>\n",
       "                        <td id=\"T_3a4103f4_1cad_11ed_9bf9_b07b255b6e77row2_col2\" class=\"data row2 col2\" >1.000000</td>\n",
       "                        <td id=\"T_3a4103f4_1cad_11ed_9bf9_b07b255b6e77row2_col3\" class=\"data row2 col3\" >0.297256</td>\n",
       "                        <td id=\"T_3a4103f4_1cad_11ed_9bf9_b07b255b6e77row2_col4\" class=\"data row2 col4\" >0.291797</td>\n",
       "                        <td id=\"T_3a4103f4_1cad_11ed_9bf9_b07b255b6e77row2_col5\" class=\"data row2 col5\" >0.445325</td>\n",
       "                        <td id=\"T_3a4103f4_1cad_11ed_9bf9_b07b255b6e77row2_col6\" class=\"data row2 col6\" >-0.141197</td>\n",
       "                        <td id=\"T_3a4103f4_1cad_11ed_9bf9_b07b255b6e77row2_col7\" class=\"data row2 col7\" >-0.202072</td>\n",
       "                        <td id=\"T_3a4103f4_1cad_11ed_9bf9_b07b255b6e77row2_col8\" class=\"data row2 col8\" >0.068009</td>\n",
       "                        <td id=\"T_3a4103f4_1cad_11ed_9bf9_b07b255b6e77row2_col9\" class=\"data row2 col9\" >-0.072091</td>\n",
       "                        <td id=\"T_3a4103f4_1cad_11ed_9bf9_b07b255b6e77row2_col10\" class=\"data row2 col10\" >-0.011671</td>\n",
       "                        <td id=\"T_3a4103f4_1cad_11ed_9bf9_b07b255b6e77row2_col11\" class=\"data row2 col11\" >-0.003730</td>\n",
       "                        <td id=\"T_3a4103f4_1cad_11ed_9bf9_b07b255b6e77row2_col12\" class=\"data row2 col12\" >-0.018782</td>\n",
       "                        <td id=\"T_3a4103f4_1cad_11ed_9bf9_b07b255b6e77row2_col13\" class=\"data row2 col13\" >-0.110871</td>\n",
       "                        <td id=\"T_3a4103f4_1cad_11ed_9bf9_b07b255b6e77row2_col14\" class=\"data row2 col14\" >0.097504</td>\n",
       "            </tr>\n",
       "            <tr>\n",
       "                        <th id=\"T_3a4103f4_1cad_11ed_9bf9_b07b255b6e77level0_row3\" class=\"row_heading level0 row3\" >num_of_info_pages</th>\n",
       "                        <td id=\"T_3a4103f4_1cad_11ed_9bf9_b07b255b6e77row3_col0\" class=\"data row3 col0\" >0.066631</td>\n",
       "                        <td id=\"T_3a4103f4_1cad_11ed_9bf9_b07b255b6e77row3_col1\" class=\"data row3 col1\" >0.383974</td>\n",
       "                        <td id=\"T_3a4103f4_1cad_11ed_9bf9_b07b255b6e77row3_col2\" class=\"data row3 col2\" >0.297256</td>\n",
       "                        <td id=\"T_3a4103f4_1cad_11ed_9bf9_b07b255b6e77row3_col3\" class=\"data row3 col3\" >1.000000</td>\n",
       "                        <td id=\"T_3a4103f4_1cad_11ed_9bf9_b07b255b6e77row3_col4\" class=\"data row3 col4\" >0.382615</td>\n",
       "                        <td id=\"T_3a4103f4_1cad_11ed_9bf9_b07b255b6e77row3_col5\" class=\"data row3 col5\" >0.489927</td>\n",
       "                        <td id=\"T_3a4103f4_1cad_11ed_9bf9_b07b255b6e77row3_col6\" class=\"data row3 col6\" >-0.116471</td>\n",
       "                        <td id=\"T_3a4103f4_1cad_11ed_9bf9_b07b255b6e77row3_col7\" class=\"data row3 col7\" >-0.165944</td>\n",
       "                        <td id=\"T_3a4103f4_1cad_11ed_9bf9_b07b255b6e77row3_col8\" class=\"data row3 col8\" >0.046150</td>\n",
       "                        <td id=\"T_3a4103f4_1cad_11ed_9bf9_b07b255b6e77row3_col9\" class=\"data row3 col9\" >-0.051921</td>\n",
       "                        <td id=\"T_3a4103f4_1cad_11ed_9bf9_b07b255b6e77row3_col10\" class=\"data row3 col10\" >-0.011148</td>\n",
       "                        <td id=\"T_3a4103f4_1cad_11ed_9bf9_b07b255b6e77row3_col11\" class=\"data row3 col11\" >-0.032790</td>\n",
       "                        <td id=\"T_3a4103f4_1cad_11ed_9bf9_b07b255b6e77row3_col12\" class=\"data row3 col12\" >-0.021416</td>\n",
       "                        <td id=\"T_3a4103f4_1cad_11ed_9bf9_b07b255b6e77row3_col13\" class=\"data row3 col13\" >-0.167875</td>\n",
       "                        <td id=\"T_3a4103f4_1cad_11ed_9bf9_b07b255b6e77row3_col14\" class=\"data row3 col14\" >0.095563</td>\n",
       "            </tr>\n",
       "            <tr>\n",
       "                        <th id=\"T_3a4103f4_1cad_11ed_9bf9_b07b255b6e77level0_row4\" class=\"row_heading level0 row4\" >num_of_product_pages</th>\n",
       "                        <td id=\"T_3a4103f4_1cad_11ed_9bf9_b07b255b6e77row4_col0\" class=\"data row4 col0\" >0.173407</td>\n",
       "                        <td id=\"T_3a4103f4_1cad_11ed_9bf9_b07b255b6e77row4_col1\" class=\"data row4 col1\" >0.436619</td>\n",
       "                        <td id=\"T_3a4103f4_1cad_11ed_9bf9_b07b255b6e77row4_col2\" class=\"data row4 col2\" >0.291797</td>\n",
       "                        <td id=\"T_3a4103f4_1cad_11ed_9bf9_b07b255b6e77row4_col3\" class=\"data row4 col3\" >0.382615</td>\n",
       "                        <td id=\"T_3a4103f4_1cad_11ed_9bf9_b07b255b6e77row4_col4\" class=\"data row4 col4\" >1.000000</td>\n",
       "                        <td id=\"T_3a4103f4_1cad_11ed_9bf9_b07b255b6e77row4_col5\" class=\"data row4 col5\" >0.877881</td>\n",
       "                        <td id=\"T_3a4103f4_1cad_11ed_9bf9_b07b255b6e77row4_col6\" class=\"data row4 col6\" >-0.202365</td>\n",
       "                        <td id=\"T_3a4103f4_1cad_11ed_9bf9_b07b255b6e77row4_col7\" class=\"data row4 col7\" >-0.292254</td>\n",
       "                        <td id=\"T_3a4103f4_1cad_11ed_9bf9_b07b255b6e77row4_col8\" class=\"data row4 col8\" >0.057020</td>\n",
       "                        <td id=\"T_3a4103f4_1cad_11ed_9bf9_b07b255b6e77row4_col9\" class=\"data row4 col9\" >-0.027799</td>\n",
       "                        <td id=\"T_3a4103f4_1cad_11ed_9bf9_b07b255b6e77row4_col10\" class=\"data row4 col10\" >0.000877</td>\n",
       "                        <td id=\"T_3a4103f4_1cad_11ed_9bf9_b07b255b6e77row4_col11\" class=\"data row4 col11\" >-0.043437</td>\n",
       "                        <td id=\"T_3a4103f4_1cad_11ed_9bf9_b07b255b6e77row4_col12\" class=\"data row4 col12\" >-0.019066</td>\n",
       "                        <td id=\"T_3a4103f4_1cad_11ed_9bf9_b07b255b6e77row4_col13\" class=\"data row4 col13\" >-0.326672</td>\n",
       "                        <td id=\"T_3a4103f4_1cad_11ed_9bf9_b07b255b6e77row4_col14\" class=\"data row4 col14\" >0.157167</td>\n",
       "            </tr>\n",
       "            <tr>\n",
       "                        <th id=\"T_3a4103f4_1cad_11ed_9bf9_b07b255b6e77level0_row5\" class=\"row_heading level0 row5\" >total_duration</th>\n",
       "                        <td id=\"T_3a4103f4_1cad_11ed_9bf9_b07b255b6e77row5_col0\" class=\"data row5 col0\" >0.151529</td>\n",
       "                        <td id=\"T_3a4103f4_1cad_11ed_9bf9_b07b255b6e77row5_col1\" class=\"data row5 col1\" >0.447180</td>\n",
       "                        <td id=\"T_3a4103f4_1cad_11ed_9bf9_b07b255b6e77row5_col2\" class=\"data row5 col2\" >0.445325</td>\n",
       "                        <td id=\"T_3a4103f4_1cad_11ed_9bf9_b07b255b6e77row5_col3\" class=\"data row5 col3\" >0.489927</td>\n",
       "                        <td id=\"T_3a4103f4_1cad_11ed_9bf9_b07b255b6e77row5_col4\" class=\"data row5 col4\" >0.877881</td>\n",
       "                        <td id=\"T_3a4103f4_1cad_11ed_9bf9_b07b255b6e77row5_col5\" class=\"data row5 col5\" >1.000000</td>\n",
       "                        <td id=\"T_3a4103f4_1cad_11ed_9bf9_b07b255b6e77row5_col6\" class=\"data row5 col6\" >-0.192154</td>\n",
       "                        <td id=\"T_3a4103f4_1cad_11ed_9bf9_b07b255b6e77row5_col7\" class=\"data row5 col7\" >-0.265104</td>\n",
       "                        <td id=\"T_3a4103f4_1cad_11ed_9bf9_b07b255b6e77row5_col8\" class=\"data row5 col8\" >0.054231</td>\n",
       "                        <td id=\"T_3a4103f4_1cad_11ed_9bf9_b07b255b6e77row5_col9\" class=\"data row5 col9\" >-0.049315</td>\n",
       "                        <td id=\"T_3a4103f4_1cad_11ed_9bf9_b07b255b6e77row5_col10\" class=\"data row5 col10\" >-0.007370</td>\n",
       "                        <td id=\"T_3a4103f4_1cad_11ed_9bf9_b07b255b6e77row5_col11\" class=\"data row5 col11\" >-0.046022</td>\n",
       "                        <td id=\"T_3a4103f4_1cad_11ed_9bf9_b07b255b6e77row5_col12\" class=\"data row5 col12\" >-0.026004</td>\n",
       "                        <td id=\"T_3a4103f4_1cad_11ed_9bf9_b07b255b6e77row5_col13\" class=\"data row5 col13\" >-0.236378</td>\n",
       "                        <td id=\"T_3a4103f4_1cad_11ed_9bf9_b07b255b6e77row5_col14\" class=\"data row5 col14\" >0.145429</td>\n",
       "            </tr>\n",
       "            <tr>\n",
       "                        <th id=\"T_3a4103f4_1cad_11ed_9bf9_b07b255b6e77level0_row6\" class=\"row_heading level0 row6\" >BounceRates</th>\n",
       "                        <td id=\"T_3a4103f4_1cad_11ed_9bf9_b07b255b6e77row6_col0\" class=\"data row6 col0\" >-0.054239</td>\n",
       "                        <td id=\"T_3a4103f4_1cad_11ed_9bf9_b07b255b6e77row6_col1\" class=\"data row6 col1\" >-0.222772</td>\n",
       "                        <td id=\"T_3a4103f4_1cad_11ed_9bf9_b07b255b6e77row6_col2\" class=\"data row6 col2\" >-0.141197</td>\n",
       "                        <td id=\"T_3a4103f4_1cad_11ed_9bf9_b07b255b6e77row6_col3\" class=\"data row6 col3\" >-0.116471</td>\n",
       "                        <td id=\"T_3a4103f4_1cad_11ed_9bf9_b07b255b6e77row6_col4\" class=\"data row6 col4\" >-0.202365</td>\n",
       "                        <td id=\"T_3a4103f4_1cad_11ed_9bf9_b07b255b6e77row6_col5\" class=\"data row6 col5\" >-0.192154</td>\n",
       "                        <td id=\"T_3a4103f4_1cad_11ed_9bf9_b07b255b6e77row6_col6\" class=\"data row6 col6\" >1.000000</td>\n",
       "                        <td id=\"T_3a4103f4_1cad_11ed_9bf9_b07b255b6e77row6_col7\" class=\"data row6 col7\" >0.911589</td>\n",
       "                        <td id=\"T_3a4103f4_1cad_11ed_9bf9_b07b255b6e77row6_col8\" class=\"data row6 col8\" >-0.116746</td>\n",
       "                        <td id=\"T_3a4103f4_1cad_11ed_9bf9_b07b255b6e77row6_col9\" class=\"data row6 col9\" >0.081161</td>\n",
       "                        <td id=\"T_3a4103f4_1cad_11ed_9bf9_b07b255b6e77row6_col10\" class=\"data row6 col10\" >0.024877</td>\n",
       "                        <td id=\"T_3a4103f4_1cad_11ed_9bf9_b07b255b6e77row6_col11\" class=\"data row6 col11\" >-0.008510</td>\n",
       "                        <td id=\"T_3a4103f4_1cad_11ed_9bf9_b07b255b6e77row6_col12\" class=\"data row6 col12\" >0.008744</td>\n",
       "                        <td id=\"T_3a4103f4_1cad_11ed_9bf9_b07b255b6e77row6_col13\" class=\"data row6 col13\" >0.147855</td>\n",
       "                        <td id=\"T_3a4103f4_1cad_11ed_9bf9_b07b255b6e77row6_col14\" class=\"data row6 col14\" >-0.150683</td>\n",
       "            </tr>\n",
       "            <tr>\n",
       "                        <th id=\"T_3a4103f4_1cad_11ed_9bf9_b07b255b6e77level0_row7\" class=\"row_heading level0 row7\" >ExitRates</th>\n",
       "                        <td id=\"T_3a4103f4_1cad_11ed_9bf9_b07b255b6e77row7_col0\" class=\"data row7 col0\" >-0.077429</td>\n",
       "                        <td id=\"T_3a4103f4_1cad_11ed_9bf9_b07b255b6e77row7_col1\" class=\"data row7 col1\" >-0.317713</td>\n",
       "                        <td id=\"T_3a4103f4_1cad_11ed_9bf9_b07b255b6e77row7_col2\" class=\"data row7 col2\" >-0.202072</td>\n",
       "                        <td id=\"T_3a4103f4_1cad_11ed_9bf9_b07b255b6e77row7_col3\" class=\"data row7 col3\" >-0.165944</td>\n",
       "                        <td id=\"T_3a4103f4_1cad_11ed_9bf9_b07b255b6e77row7_col4\" class=\"data row7 col4\" >-0.292254</td>\n",
       "                        <td id=\"T_3a4103f4_1cad_11ed_9bf9_b07b255b6e77row7_col5\" class=\"data row7 col5\" >-0.265104</td>\n",
       "                        <td id=\"T_3a4103f4_1cad_11ed_9bf9_b07b255b6e77row7_col6\" class=\"data row7 col6\" >0.911589</td>\n",
       "                        <td id=\"T_3a4103f4_1cad_11ed_9bf9_b07b255b6e77row7_col7\" class=\"data row7 col7\" >1.000000</td>\n",
       "                        <td id=\"T_3a4103f4_1cad_11ed_9bf9_b07b255b6e77row7_col8\" class=\"data row7 col8\" >-0.172314</td>\n",
       "                        <td id=\"T_3a4103f4_1cad_11ed_9bf9_b07b255b6e77row7_col9\" class=\"data row7 col9\" >0.111041</td>\n",
       "                        <td id=\"T_3a4103f4_1cad_11ed_9bf9_b07b255b6e77row7_col10\" class=\"data row7 col10\" >0.015076</td>\n",
       "                        <td id=\"T_3a4103f4_1cad_11ed_9bf9_b07b255b6e77row7_col11\" class=\"data row7 col11\" >-0.009308</td>\n",
       "                        <td id=\"T_3a4103f4_1cad_11ed_9bf9_b07b255b6e77row7_col12\" class=\"data row7 col12\" >0.007393</td>\n",
       "                        <td id=\"T_3a4103f4_1cad_11ed_9bf9_b07b255b6e77row7_col13\" class=\"data row7 col13\" >0.231711</td>\n",
       "                        <td id=\"T_3a4103f4_1cad_11ed_9bf9_b07b255b6e77row7_col14\" class=\"data row7 col14\" >-0.207804</td>\n",
       "            </tr>\n",
       "            <tr>\n",
       "                        <th id=\"T_3a4103f4_1cad_11ed_9bf9_b07b255b6e77level0_row8\" class=\"row_heading level0 row8\" >PageValues</th>\n",
       "                        <td id=\"T_3a4103f4_1cad_11ed_9bf9_b07b255b6e77row8_col0\" class=\"data row8 col0\" >0.053881</td>\n",
       "                        <td id=\"T_3a4103f4_1cad_11ed_9bf9_b07b255b6e77row8_col1\" class=\"data row8 col1\" >0.102648</td>\n",
       "                        <td id=\"T_3a4103f4_1cad_11ed_9bf9_b07b255b6e77row8_col2\" class=\"data row8 col2\" >0.068009</td>\n",
       "                        <td id=\"T_3a4103f4_1cad_11ed_9bf9_b07b255b6e77row8_col3\" class=\"data row8 col3\" >0.046150</td>\n",
       "                        <td id=\"T_3a4103f4_1cad_11ed_9bf9_b07b255b6e77row8_col4\" class=\"data row8 col4\" >0.057020</td>\n",
       "                        <td id=\"T_3a4103f4_1cad_11ed_9bf9_b07b255b6e77row8_col5\" class=\"data row8 col5\" >0.054231</td>\n",
       "                        <td id=\"T_3a4103f4_1cad_11ed_9bf9_b07b255b6e77row8_col6\" class=\"data row8 col6\" >-0.116746</td>\n",
       "                        <td id=\"T_3a4103f4_1cad_11ed_9bf9_b07b255b6e77row8_col7\" class=\"data row8 col7\" >-0.172314</td>\n",
       "                        <td id=\"T_3a4103f4_1cad_11ed_9bf9_b07b255b6e77row8_col8\" class=\"data row8 col8\" >1.000000</td>\n",
       "                        <td id=\"T_3a4103f4_1cad_11ed_9bf9_b07b255b6e77row8_col9\" class=\"data row8 col9\" >-0.062112</td>\n",
       "                        <td id=\"T_3a4103f4_1cad_11ed_9bf9_b07b255b6e77row8_col10\" class=\"data row8 col10\" >0.019302</td>\n",
       "                        <td id=\"T_3a4103f4_1cad_11ed_9bf9_b07b255b6e77row8_col11\" class=\"data row8 col11\" >0.010091</td>\n",
       "                        <td id=\"T_3a4103f4_1cad_11ed_9bf9_b07b255b6e77row8_col12\" class=\"data row8 col12\" >-0.012400</td>\n",
       "                        <td id=\"T_3a4103f4_1cad_11ed_9bf9_b07b255b6e77row8_col13\" class=\"data row8 col13\" >-0.447703</td>\n",
       "                        <td id=\"T_3a4103f4_1cad_11ed_9bf9_b07b255b6e77row8_col14\" class=\"data row8 col14\" >0.486404</td>\n",
       "            </tr>\n",
       "            <tr>\n",
       "                        <th id=\"T_3a4103f4_1cad_11ed_9bf9_b07b255b6e77level0_row9\" class=\"row_heading level0 row9\" >closeness_to_holiday</th>\n",
       "                        <td id=\"T_3a4103f4_1cad_11ed_9bf9_b07b255b6e77row9_col0\" class=\"data row9 col0\" >-0.225908</td>\n",
       "                        <td id=\"T_3a4103f4_1cad_11ed_9bf9_b07b255b6e77row9_col1\" class=\"data row9 col1\" >-0.099734</td>\n",
       "                        <td id=\"T_3a4103f4_1cad_11ed_9bf9_b07b255b6e77row9_col2\" class=\"data row9 col2\" >-0.072091</td>\n",
       "                        <td id=\"T_3a4103f4_1cad_11ed_9bf9_b07b255b6e77row9_col3\" class=\"data row9 col3\" >-0.051921</td>\n",
       "                        <td id=\"T_3a4103f4_1cad_11ed_9bf9_b07b255b6e77row9_col4\" class=\"data row9 col4\" >-0.027799</td>\n",
       "                        <td id=\"T_3a4103f4_1cad_11ed_9bf9_b07b255b6e77row9_col5\" class=\"data row9 col5\" >-0.049315</td>\n",
       "                        <td id=\"T_3a4103f4_1cad_11ed_9bf9_b07b255b6e77row9_col6\" class=\"data row9 col6\" >0.081161</td>\n",
       "                        <td id=\"T_3a4103f4_1cad_11ed_9bf9_b07b255b6e77row9_col7\" class=\"data row9 col7\" >0.111041</td>\n",
       "                        <td id=\"T_3a4103f4_1cad_11ed_9bf9_b07b255b6e77row9_col8\" class=\"data row9 col8\" >-0.062112</td>\n",
       "                        <td id=\"T_3a4103f4_1cad_11ed_9bf9_b07b255b6e77row9_col9\" class=\"data row9 col9\" >1.000000</td>\n",
       "                        <td id=\"T_3a4103f4_1cad_11ed_9bf9_b07b255b6e77row9_col10\" class=\"data row9 col10\" >0.018269</td>\n",
       "                        <td id=\"T_3a4103f4_1cad_11ed_9bf9_b07b255b6e77row9_col11\" class=\"data row9 col11\" >-0.012651</td>\n",
       "                        <td id=\"T_3a4103f4_1cad_11ed_9bf9_b07b255b6e77row9_col12\" class=\"data row9 col12\" >-0.005234</td>\n",
       "                        <td id=\"T_3a4103f4_1cad_11ed_9bf9_b07b255b6e77row9_col13\" class=\"data row9 col13\" >0.171953</td>\n",
       "                        <td id=\"T_3a4103f4_1cad_11ed_9bf9_b07b255b6e77row9_col14\" class=\"data row9 col14\" >-0.083926</td>\n",
       "            </tr>\n",
       "            <tr>\n",
       "                        <th id=\"T_3a4103f4_1cad_11ed_9bf9_b07b255b6e77level0_row10\" class=\"row_heading level0 row10\" >device</th>\n",
       "                        <td id=\"T_3a4103f4_1cad_11ed_9bf9_b07b255b6e77row10_col0\" class=\"data row10 col0\" >0.043127</td>\n",
       "                        <td id=\"T_3a4103f4_1cad_11ed_9bf9_b07b255b6e77row10_col1\" class=\"data row10 col1\" >-0.010604</td>\n",
       "                        <td id=\"T_3a4103f4_1cad_11ed_9bf9_b07b255b6e77row10_col2\" class=\"data row10 col2\" >-0.011671</td>\n",
       "                        <td id=\"T_3a4103f4_1cad_11ed_9bf9_b07b255b6e77row10_col3\" class=\"data row10 col3\" >-0.011148</td>\n",
       "                        <td id=\"T_3a4103f4_1cad_11ed_9bf9_b07b255b6e77row10_col4\" class=\"data row10 col4\" >0.000877</td>\n",
       "                        <td id=\"T_3a4103f4_1cad_11ed_9bf9_b07b255b6e77row10_col5\" class=\"data row10 col5\" >-0.007370</td>\n",
       "                        <td id=\"T_3a4103f4_1cad_11ed_9bf9_b07b255b6e77row10_col6\" class=\"data row10 col6\" >0.024877</td>\n",
       "                        <td id=\"T_3a4103f4_1cad_11ed_9bf9_b07b255b6e77row10_col7\" class=\"data row10 col7\" >0.015076</td>\n",
       "                        <td id=\"T_3a4103f4_1cad_11ed_9bf9_b07b255b6e77row10_col8\" class=\"data row10 col8\" >0.019302</td>\n",
       "                        <td id=\"T_3a4103f4_1cad_11ed_9bf9_b07b255b6e77row10_col9\" class=\"data row10 col9\" >0.018269</td>\n",
       "                        <td id=\"T_3a4103f4_1cad_11ed_9bf9_b07b255b6e77row10_col10\" class=\"data row10 col10\" >1.000000</td>\n",
       "                        <td id=\"T_3a4103f4_1cad_11ed_9bf9_b07b255b6e77row10_col11\" class=\"data row10 col11\" >0.077885</td>\n",
       "                        <td id=\"T_3a4103f4_1cad_11ed_9bf9_b07b255b6e77row10_col12\" class=\"data row10 col12\" >0.004767</td>\n",
       "                        <td id=\"T_3a4103f4_1cad_11ed_9bf9_b07b255b6e77row10_col13\" class=\"data row10 col13\" >-0.130045</td>\n",
       "                        <td id=\"T_3a4103f4_1cad_11ed_9bf9_b07b255b6e77row10_col14\" class=\"data row10 col14\" >-0.020196</td>\n",
       "            </tr>\n",
       "            <tr>\n",
       "                        <th id=\"T_3a4103f4_1cad_11ed_9bf9_b07b255b6e77level0_row11\" class=\"row_heading level0 row11\" >Region</th>\n",
       "                        <td id=\"T_3a4103f4_1cad_11ed_9bf9_b07b255b6e77row11_col0\" class=\"data row11 col0\" >0.010513</td>\n",
       "                        <td id=\"T_3a4103f4_1cad_11ed_9bf9_b07b255b6e77row11_col1\" class=\"data row11 col1\" >-0.007737</td>\n",
       "                        <td id=\"T_3a4103f4_1cad_11ed_9bf9_b07b255b6e77row11_col2\" class=\"data row11 col2\" >-0.003730</td>\n",
       "                        <td id=\"T_3a4103f4_1cad_11ed_9bf9_b07b255b6e77row11_col3\" class=\"data row11 col3\" >-0.032790</td>\n",
       "                        <td id=\"T_3a4103f4_1cad_11ed_9bf9_b07b255b6e77row11_col4\" class=\"data row11 col4\" >-0.043437</td>\n",
       "                        <td id=\"T_3a4103f4_1cad_11ed_9bf9_b07b255b6e77row11_col5\" class=\"data row11 col5\" >-0.046022</td>\n",
       "                        <td id=\"T_3a4103f4_1cad_11ed_9bf9_b07b255b6e77row11_col6\" class=\"data row11 col6\" >-0.008510</td>\n",
       "                        <td id=\"T_3a4103f4_1cad_11ed_9bf9_b07b255b6e77row11_col7\" class=\"data row11 col7\" >-0.009308</td>\n",
       "                        <td id=\"T_3a4103f4_1cad_11ed_9bf9_b07b255b6e77row11_col8\" class=\"data row11 col8\" >0.010091</td>\n",
       "                        <td id=\"T_3a4103f4_1cad_11ed_9bf9_b07b255b6e77row11_col9\" class=\"data row11 col9\" >-0.012651</td>\n",
       "                        <td id=\"T_3a4103f4_1cad_11ed_9bf9_b07b255b6e77row11_col10\" class=\"data row11 col10\" >0.077885</td>\n",
       "                        <td id=\"T_3a4103f4_1cad_11ed_9bf9_b07b255b6e77row11_col11\" class=\"data row11 col11\" >1.000000</td>\n",
       "                        <td id=\"T_3a4103f4_1cad_11ed_9bf9_b07b255b6e77row11_col12\" class=\"data row11 col12\" >-0.000098</td>\n",
       "                        <td id=\"T_3a4103f4_1cad_11ed_9bf9_b07b255b6e77row11_col13\" class=\"data row11 col13\" >-0.054273</td>\n",
       "                        <td id=\"T_3a4103f4_1cad_11ed_9bf9_b07b255b6e77row11_col14\" class=\"data row11 col14\" >-0.009488</td>\n",
       "            </tr>\n",
       "            <tr>\n",
       "                        <th id=\"T_3a4103f4_1cad_11ed_9bf9_b07b255b6e77level0_row12\" class=\"row_heading level0 row12\" >B</th>\n",
       "                        <td id=\"T_3a4103f4_1cad_11ed_9bf9_b07b255b6e77row12_col0\" class=\"data row12 col0\" >-0.016671</td>\n",
       "                        <td id=\"T_3a4103f4_1cad_11ed_9bf9_b07b255b6e77row12_col1\" class=\"data row12 col1\" >-0.016465</td>\n",
       "                        <td id=\"T_3a4103f4_1cad_11ed_9bf9_b07b255b6e77row12_col2\" class=\"data row12 col2\" >-0.018782</td>\n",
       "                        <td id=\"T_3a4103f4_1cad_11ed_9bf9_b07b255b6e77row12_col3\" class=\"data row12 col3\" >-0.021416</td>\n",
       "                        <td id=\"T_3a4103f4_1cad_11ed_9bf9_b07b255b6e77row12_col4\" class=\"data row12 col4\" >-0.019066</td>\n",
       "                        <td id=\"T_3a4103f4_1cad_11ed_9bf9_b07b255b6e77row12_col5\" class=\"data row12 col5\" >-0.026004</td>\n",
       "                        <td id=\"T_3a4103f4_1cad_11ed_9bf9_b07b255b6e77row12_col6\" class=\"data row12 col6\" >0.008744</td>\n",
       "                        <td id=\"T_3a4103f4_1cad_11ed_9bf9_b07b255b6e77row12_col7\" class=\"data row12 col7\" >0.007393</td>\n",
       "                        <td id=\"T_3a4103f4_1cad_11ed_9bf9_b07b255b6e77row12_col8\" class=\"data row12 col8\" >-0.012400</td>\n",
       "                        <td id=\"T_3a4103f4_1cad_11ed_9bf9_b07b255b6e77row12_col9\" class=\"data row12 col9\" >-0.005234</td>\n",
       "                        <td id=\"T_3a4103f4_1cad_11ed_9bf9_b07b255b6e77row12_col10\" class=\"data row12 col10\" >0.004767</td>\n",
       "                        <td id=\"T_3a4103f4_1cad_11ed_9bf9_b07b255b6e77row12_col11\" class=\"data row12 col11\" >-0.000098</td>\n",
       "                        <td id=\"T_3a4103f4_1cad_11ed_9bf9_b07b255b6e77row12_col12\" class=\"data row12 col12\" >1.000000</td>\n",
       "                        <td id=\"T_3a4103f4_1cad_11ed_9bf9_b07b255b6e77row12_col13\" class=\"data row12 col13\" >0.044784</td>\n",
       "                        <td id=\"T_3a4103f4_1cad_11ed_9bf9_b07b255b6e77row12_col14\" class=\"data row12 col14\" >-0.003981</td>\n",
       "            </tr>\n",
       "            <tr>\n",
       "                        <th id=\"T_3a4103f4_1cad_11ed_9bf9_b07b255b6e77level0_row13\" class=\"row_heading level0 row13\" >D</th>\n",
       "                        <td id=\"T_3a4103f4_1cad_11ed_9bf9_b07b255b6e77row13_col0\" class=\"data row13 col0\" >-0.129515</td>\n",
       "                        <td id=\"T_3a4103f4_1cad_11ed_9bf9_b07b255b6e77row13_col1\" class=\"data row13 col1\" >-0.197337</td>\n",
       "                        <td id=\"T_3a4103f4_1cad_11ed_9bf9_b07b255b6e77row13_col2\" class=\"data row13 col2\" >-0.110871</td>\n",
       "                        <td id=\"T_3a4103f4_1cad_11ed_9bf9_b07b255b6e77row13_col3\" class=\"data row13 col3\" >-0.167875</td>\n",
       "                        <td id=\"T_3a4103f4_1cad_11ed_9bf9_b07b255b6e77row13_col4\" class=\"data row13 col4\" >-0.326672</td>\n",
       "                        <td id=\"T_3a4103f4_1cad_11ed_9bf9_b07b255b6e77row13_col5\" class=\"data row13 col5\" >-0.236378</td>\n",
       "                        <td id=\"T_3a4103f4_1cad_11ed_9bf9_b07b255b6e77row13_col6\" class=\"data row13 col6\" >0.147855</td>\n",
       "                        <td id=\"T_3a4103f4_1cad_11ed_9bf9_b07b255b6e77row13_col7\" class=\"data row13 col7\" >0.231711</td>\n",
       "                        <td id=\"T_3a4103f4_1cad_11ed_9bf9_b07b255b6e77row13_col8\" class=\"data row13 col8\" >-0.447703</td>\n",
       "                        <td id=\"T_3a4103f4_1cad_11ed_9bf9_b07b255b6e77row13_col9\" class=\"data row13 col9\" >0.171953</td>\n",
       "                        <td id=\"T_3a4103f4_1cad_11ed_9bf9_b07b255b6e77row13_col10\" class=\"data row13 col10\" >-0.130045</td>\n",
       "                        <td id=\"T_3a4103f4_1cad_11ed_9bf9_b07b255b6e77row13_col11\" class=\"data row13 col11\" >-0.054273</td>\n",
       "                        <td id=\"T_3a4103f4_1cad_11ed_9bf9_b07b255b6e77row13_col12\" class=\"data row13 col12\" >0.044784</td>\n",
       "                        <td id=\"T_3a4103f4_1cad_11ed_9bf9_b07b255b6e77row13_col13\" class=\"data row13 col13\" >1.000000</td>\n",
       "                        <td id=\"T_3a4103f4_1cad_11ed_9bf9_b07b255b6e77row13_col14\" class=\"data row13 col14\" >-0.753238</td>\n",
       "            </tr>\n",
       "            <tr>\n",
       "                        <th id=\"T_3a4103f4_1cad_11ed_9bf9_b07b255b6e77level0_row14\" class=\"row_heading level0 row14\" >purchase</th>\n",
       "                        <td id=\"T_3a4103f4_1cad_11ed_9bf9_b07b255b6e77row14_col0\" class=\"data row14 col0\" >0.124522</td>\n",
       "                        <td id=\"T_3a4103f4_1cad_11ed_9bf9_b07b255b6e77row14_col1\" class=\"data row14 col1\" >0.145048</td>\n",
       "                        <td id=\"T_3a4103f4_1cad_11ed_9bf9_b07b255b6e77row14_col2\" class=\"data row14 col2\" >0.097504</td>\n",
       "                        <td id=\"T_3a4103f4_1cad_11ed_9bf9_b07b255b6e77row14_col3\" class=\"data row14 col3\" >0.095563</td>\n",
       "                        <td id=\"T_3a4103f4_1cad_11ed_9bf9_b07b255b6e77row14_col4\" class=\"data row14 col4\" >0.157167</td>\n",
       "                        <td id=\"T_3a4103f4_1cad_11ed_9bf9_b07b255b6e77row14_col5\" class=\"data row14 col5\" >0.145429</td>\n",
       "                        <td id=\"T_3a4103f4_1cad_11ed_9bf9_b07b255b6e77row14_col6\" class=\"data row14 col6\" >-0.150683</td>\n",
       "                        <td id=\"T_3a4103f4_1cad_11ed_9bf9_b07b255b6e77row14_col7\" class=\"data row14 col7\" >-0.207804</td>\n",
       "                        <td id=\"T_3a4103f4_1cad_11ed_9bf9_b07b255b6e77row14_col8\" class=\"data row14 col8\" >0.486404</td>\n",
       "                        <td id=\"T_3a4103f4_1cad_11ed_9bf9_b07b255b6e77row14_col9\" class=\"data row14 col9\" >-0.083926</td>\n",
       "                        <td id=\"T_3a4103f4_1cad_11ed_9bf9_b07b255b6e77row14_col10\" class=\"data row14 col10\" >-0.020196</td>\n",
       "                        <td id=\"T_3a4103f4_1cad_11ed_9bf9_b07b255b6e77row14_col11\" class=\"data row14 col11\" >-0.009488</td>\n",
       "                        <td id=\"T_3a4103f4_1cad_11ed_9bf9_b07b255b6e77row14_col12\" class=\"data row14 col12\" >-0.003981</td>\n",
       "                        <td id=\"T_3a4103f4_1cad_11ed_9bf9_b07b255b6e77row14_col13\" class=\"data row14 col13\" >-0.753238</td>\n",
       "                        <td id=\"T_3a4103f4_1cad_11ed_9bf9_b07b255b6e77row14_col14\" class=\"data row14 col14\" >1.000000</td>\n",
       "            </tr>\n",
       "    </tbody></table>"
      ],
      "text/plain": [
       "<pandas.io.formats.style.Styler at 0x23eb90d2b20>"
      ]
     },
     "execution_count": 10,
     "metadata": {},
     "output_type": "execute_result"
    }
   ],
   "source": [
    "# Visualizing the features' correlations\n",
    "corr = data.corr()\n",
    "corr.style.background_gradient(cmap='coolwarm')"
   ]
  },
  {
   "cell_type": "markdown",
   "metadata": {},
   "source": [
    "We want to plot strong correaltions between two features, i.e. correlations above than 0.5."
   ]
  },
  {
   "cell_type": "code",
   "execution_count": 11,
   "metadata": {},
   "outputs": [
    {
     "data": {
      "text/plain": [
       "Text(0.5, 1.0, 'Graph #2 - corr > 0.5')"
      ]
     },
     "execution_count": 11,
     "metadata": {},
     "output_type": "execute_result"
    },
    {
     "data": {
      "image/png": "[encoded data removed]",
      "text/plain": [
       "<Figure size 864x576 with 2 Axes>"
      ]
     },
     "metadata": {
      "needs_background": "light"
     },
     "output_type": "display_data"
    }
   ],
   "source": [
    "corr = data.corr()\n",
    "high_corr = corr[corr>=0.5]\n",
    "plt.figure(figsize=(12,8))\n",
    "sns.heatmap(high_corr, cmap=\"coolwarm\")\n",
    "plt.title('Graph #2 - corr > 0.5', size = 14)"
   ]
  },
  {
   "cell_type": "markdown",
   "metadata": {},
   "source": [
    "At this point, we examine all the correlations that have higher correlation than 0.5 with scatter plots to see how they behave together."
   ]
  },
  {
   "cell_type": "code",
   "execution_count": 12,
   "metadata": {},
   "outputs": [
    {
     "data": {
      "image/png": "[encoded data removed]",
      "text/plain": [
       "<Figure size 432x288 with 1 Axes>"
      ]
     },
     "metadata": {
      "needs_background": "light"
     },
     "output_type": "display_data"
    },
    {
     "data": {
      "image/png": "[encoded data removed]",
      "text/plain": [
       "<Figure size 432x288 with 1 Axes>"
      ]
     },
     "metadata": {
      "needs_background": "light"
     },
     "output_type": "display_data"
    },
    {
     "data": {
      "image/png": "[encoded data removed]",
      "text/plain": [
       "<Figure size 432x288 with 1 Axes>"
      ]
     },
     "metadata": {
      "needs_background": "light"
     },
     "output_type": "display_data"
    }
   ],
   "source": [
    "a = ['num_of_admin_pages', 'num_of_product_pages', 'BounceRates']\n",
    "b = ['admin_page_duration', 'total_duration', 'ExitRates']\n",
    "for i in range(len(a)):\n",
    "    data.plot.scatter(x=a[i], y=b[i])\n",
    "    plt.title(f'Graph #{i+3} - scatter between {a[i]} and {b[i]}', size = 14)\n"
   ]
  },
  {
   "cell_type": "markdown",
   "metadata": {},
   "source": [
    "Later, we will remove outliers based on those graphs.\n"
   ]
  },
  {
   "cell_type": "markdown",
   "metadata": {},
   "source": [
    " * ### Plotting histogram of numeric features"
   ]
  },
  {
   "cell_type": "code",
   "execution_count": 13,
   "metadata": {},
   "outputs": [
    {
     "name": "stdout",
     "output_type": "stream",
     "text": [
      "Graph #6 - plotting the numeric features: \n"
     ]
    },
    {
     "data": {
      "image/png": "[encoded data removed]",
      "text/plain": [
       "<Figure size 2160x1440 with 16 Axes>"
      ]
     },
     "metadata": {
      "needs_background": "light"
     },
     "output_type": "display_data"
    }
   ],
   "source": [
    "# Plotting histograms for each numeric feature\n",
    "print(\"Graph #6 - plotting the numeric features: \")\n",
    "data.iloc[:,1:-1].hist(figsize=(30, 20), bins=70)\n",
    "warnings.filterwarnings('ignore')"
   ]
  },
  {
   "cell_type": "markdown",
   "metadata": {},
   "source": [
    "\n",
    "* ### Checking the mean of each features when the label is '0' and '1'\n"
   ]
  },
  {
   "cell_type": "code",
   "execution_count": 14,
   "metadata": {},
   "outputs": [
    {
     "data": {
      "text/html": [
       "<div>\n",
       "<style scoped>\n",
       "    .dataframe tbody tr th:only-of-type {\n",
       "        vertical-align: middle;\n",
       "    }\n",
       "\n",
       "    .dataframe tbody tr th {\n",
       "        vertical-align: top;\n",
       "    }\n",
       "\n",
       "    .dataframe thead th {\n",
       "        text-align: right;\n",
       "    }\n",
       "</style>\n",
       "<table border=\"1\" class=\"dataframe\">\n",
       "  <thead>\n",
       "    <tr style=\"text-align: right;\">\n",
       "      <th></th>\n",
       "      <th>id</th>\n",
       "      <th>num_of_admin_pages</th>\n",
       "      <th>admin_page_duration</th>\n",
       "      <th>num_of_info_pages</th>\n",
       "      <th>num_of_product_pages</th>\n",
       "      <th>total_duration</th>\n",
       "      <th>BounceRates</th>\n",
       "      <th>ExitRates</th>\n",
       "      <th>PageValues</th>\n",
       "      <th>closeness_to_holiday</th>\n",
       "      <th>device</th>\n",
       "      <th>Region</th>\n",
       "      <th>B</th>\n",
       "      <th>D</th>\n",
       "    </tr>\n",
       "    <tr>\n",
       "      <th>purchase</th>\n",
       "      <th></th>\n",
       "      <th></th>\n",
       "      <th></th>\n",
       "      <th></th>\n",
       "      <th></th>\n",
       "      <th></th>\n",
       "      <th></th>\n",
       "      <th></th>\n",
       "      <th></th>\n",
       "      <th></th>\n",
       "      <th></th>\n",
       "      <th></th>\n",
       "      <th></th>\n",
       "      <th></th>\n",
       "    </tr>\n",
       "  </thead>\n",
       "  <tbody>\n",
       "    <tr>\n",
       "      <th>0</th>\n",
       "      <td>5077.861820</td>\n",
       "      <td>2.115527</td>\n",
       "      <td>73.004928</td>\n",
       "      <td>0.450966</td>\n",
       "      <td>28.844228</td>\n",
       "      <td>1175.577501</td>\n",
       "      <td>0.024951</td>\n",
       "      <td>0.047151</td>\n",
       "      <td>2.005012</td>\n",
       "      <td>0.069139</td>\n",
       "      <td>2.130845</td>\n",
       "      <td>3.165385</td>\n",
       "      <td>99.786741</td>\n",
       "      <td>4.730612</td>\n",
       "    </tr>\n",
       "    <tr>\n",
       "      <th>1</th>\n",
       "      <td>6119.544109</td>\n",
       "      <td>3.455621</td>\n",
       "      <td>121.404414</td>\n",
       "      <td>0.785714</td>\n",
       "      <td>48.264331</td>\n",
       "      <td>1995.569879</td>\n",
       "      <td>0.004896</td>\n",
       "      <td>0.019391</td>\n",
       "      <td>27.199605</td>\n",
       "      <td>0.022827</td>\n",
       "      <td>2.080329</td>\n",
       "      <td>3.102230</td>\n",
       "      <td>99.676084</td>\n",
       "      <td>0.039403</td>\n",
       "    </tr>\n",
       "  </tbody>\n",
       "</table>\n",
       "</div>"
      ],
      "text/plain": [
       "                   id  num_of_admin_pages  admin_page_duration  \\\n",
       "purchase                                                         \n",
       "0         5077.861820            2.115527            73.004928   \n",
       "1         6119.544109            3.455621           121.404414   \n",
       "\n",
       "          num_of_info_pages  num_of_product_pages  total_duration  \\\n",
       "purchase                                                            \n",
       "0                  0.450966             28.844228     1175.577501   \n",
       "1                  0.785714             48.264331     1995.569879   \n",
       "\n",
       "          BounceRates  ExitRates  PageValues  closeness_to_holiday    device  \\\n",
       "purchase                                                                       \n",
       "0            0.024951   0.047151    2.005012              0.069139  2.130845   \n",
       "1            0.004896   0.019391   27.199605              0.022827  2.080329   \n",
       "\n",
       "            Region          B         D  \n",
       "purchase                                 \n",
       "0         3.165385  99.786741  4.730612  \n",
       "1         3.102230  99.676084  0.039403  "
      ]
     },
     "execution_count": 14,
     "metadata": {},
     "output_type": "execute_result"
    }
   ],
   "source": [
    "data.groupby(data['purchase']).mean()"
   ]
  },
  {
   "cell_type": "markdown",
   "metadata": {},
   "source": [
    "The values in the 'device', 'Region' and 'B' columns are almost identical whether the label is '1' or '0'. let's explore them deeper."
   ]
  },
  {
   "cell_type": "code",
   "execution_count": 15,
   "metadata": {},
   "outputs": [],
   "source": [
    "# We created a function that plots histogram of a feature when the purchase is '0' and when the purchase is '1'\n",
    "# The 'num' paramter is for the graph indexing\n",
    "def purchase_0_and_1(data, col, num):\n",
    "    # For purchase = 1\n",
    "    col_purchase_1 = data[data['purchase'] == 1]\n",
    "    plt.subplot(1, 2, 1)\n",
    "    plt.title(f'Graph #{num}: {col} - purchase = 1      ', size = 14)\n",
    "    col_purchase_1[col].plot.hist(bins=50, color='green')\n",
    "\n",
    "    # For purchase = 0\n",
    "    col_purchase_0 = data[data['purchase'] == 0]\n",
    "    plt.subplot(1, 2, 2)\n",
    "    plt.title(f'{col} - purchase = 0', size = 14)\n",
    "    col_purchase_0[col].plot.hist(bins=50, color='red')"
   ]
  },
  {
   "cell_type": "markdown",
   "metadata": {},
   "source": [
    " ### - device "
   ]
  },
  {
   "cell_type": "code",
   "execution_count": 16,
   "metadata": {},
   "outputs": [
    {
     "data": {
      "image/png": "[encoded data removed]",
      "text/plain": [
       "<Figure size 432x288 with 2 Axes>"
      ]
     },
     "metadata": {
      "needs_background": "light"
     },
     "output_type": "display_data"
    }
   ],
   "source": [
    "purchase_0_and_1(data, 'device', 7)"
   ]
  },
  {
   "cell_type": "markdown",
   "metadata": {},
   "source": [
    "### - Region"
   ]
  },
  {
   "cell_type": "code",
   "execution_count": 17,
   "metadata": {},
   "outputs": [
    {
     "data": {
      "image/png": "[encoded data removed]",
      "text/plain": [
       "<Figure size 432x288 with 2 Axes>"
      ]
     },
     "metadata": {
      "needs_background": "light"
     },
     "output_type": "display_data"
    }
   ],
   "source": [
    "purchase_0_and_1(data, 'Region', 8)"
   ]
  },
  {
   "cell_type": "markdown",
   "metadata": {},
   "source": [
    "### - B"
   ]
  },
  {
   "cell_type": "code",
   "execution_count": 18,
   "metadata": {},
   "outputs": [
    {
     "data": {
      "image/png": "[encoded data removed]",
      "text/plain": [
       "<Figure size 432x288 with 2 Axes>"
      ]
     },
     "metadata": {
      "needs_background": "light"
     },
     "output_type": "display_data"
    }
   ],
   "source": [
    "purchase_0_and_1(data, 'B', 9)"
   ]
  },
  {
   "cell_type": "markdown",
   "metadata": {},
   "source": [
    "Although it seems from the graphs that these features may not have influence on the prediction, we'll examine their importance later.\n"
   ]
  },
  {
   "cell_type": "markdown",
   "metadata": {},
   "source": [
    "## <u> Preprocessing <u>"
   ]
  },
  {
   "cell_type": "code",
   "execution_count": 19,
   "metadata": {},
   "outputs": [],
   "source": [
    "# Working on a copy of the data\n",
    "train = data.copy()"
   ]
  },
  {
   "cell_type": "markdown",
   "metadata": {},
   "source": [
    "We wrote functions that help us filling the missing values:\n"
   ]
  },
  {
   "cell_type": "code",
   "execution_count": 20,
   "metadata": {},
   "outputs": [],
   "source": [
    "# Filling missing values with the feature's mean\n",
    "def fill_NA_mean(feature, data):\n",
    "    data[feature] = data[feature].fillna(data[feature].mean())\n",
    "    return data\n",
    "\n",
    "# Returning the mean of a feature\n",
    "def mean_value(feature, data):\n",
    "    return data[feature].mean()\n",
    "\n",
    "# Filling missing values with the feature's median   \n",
    "def fill_NA_median(feature, data):\n",
    "    data[feature] = data[feature].fillna(data[feature].median())\n",
    "    return data\n",
    "\n",
    "# Returning the median of a feature\n",
    "def median_value(feature, data):\n",
    "    return data[feature].median()\n",
    "    \n",
    "# Filling missing values with the feature's common value\n",
    "def fill_NA_common_value(feature, data):\n",
    "    data[feature] = data[feature].fillna(data[feature].value_counts().index[0])\n",
    "    return data\n",
    "\n",
    "# Returning the common value of a feature\n",
    "def common_value(feature, data):\n",
    "    return data[feature].value_counts().index[0]\n",
    "     \n",
    "# Filling missing values with the median of values in the previous and next observations\n",
    "def fill_NA_median_backward_foward(feature, data):\n",
    "    data[feature] = data[feature].fillna(round(pd.concat([data[feature].ffill(),data[feature].bfill()]).groupby(level=0).median()))\n",
    "    return data    \n",
    "\n",
    "# Filling missing values in one feature according to values in another feature\n",
    "def fill_NA_feature_based_on_feature(feature1,feature2,data):\n",
    "    feature1_mean = data[feature1].mean()\n",
    "    feature2_high_median = data[data[feature1] >= feature1_mean][feature2].median()\n",
    "    feature2_low_median = data[data[feature1] < feature1_mean][feature2].median()\n",
    "    data.loc[data[feature1] >= feature1_mean, feature2] = data.loc[data[feature1] >= feature1_mean, feature2].fillna(feature2_high_median)\n",
    "    data.loc[data[feature1] < feature1_mean, feature2] = data.loc[data[feature1] < feature1_mean, feature2].fillna(feature2_low_median)\n",
    "    return data\n",
    "\n",
    "# Filling missing values of a feature as 'unknown'\n",
    "def fill_NA_unknown(feature, data):\n",
    "    data[feature] = data[feature].fillna('unknown')\n",
    "    return data"
   ]
  },
  {
   "cell_type": "markdown",
   "metadata": {},
   "source": [
    "Now we explore every feature - filling missing values, covert them to numeric type and remove outliers."
   ]
  },
  {
   "cell_type": "code",
   "execution_count": 21,
   "metadata": {},
   "outputs": [
    {
     "data": {
      "text/plain": [
       "id                           0\n",
       "num_of_admin_pages         605\n",
       "admin_page_duration        413\n",
       "num_of_info_pages          687\n",
       "info_page_duration         317\n",
       "num_of_product_pages       403\n",
       "product_page_duration      621\n",
       "total_duration            4753\n",
       "BounceRates                 22\n",
       "ExitRates                   26\n",
       "PageValues                  27\n",
       "closeness_to_holiday       496\n",
       "Month                       25\n",
       "device                     323\n",
       "internet_browser           563\n",
       "Region                      19\n",
       "user_type                   23\n",
       "Weekend                     23\n",
       "A                          706\n",
       "B                           23\n",
       "C                           23\n",
       "D                        10374\n",
       "purchase                     0\n",
       "dtype: int64"
      ]
     },
     "execution_count": 21,
     "metadata": {},
     "output_type": "execute_result"
    }
   ],
   "source": [
    "# Checking the number of missing values of every feature\n",
    "train.isnull().sum()"
   ]
  },
  {
   "cell_type": "markdown",
   "metadata": {},
   "source": [
    "The 'D' feature is already in the list of features we will drop.<br>\n",
    "As we said before, 'id' is a serial number so it won't be relevant to the models. Therefore, we'll drop it too.\n"
   ]
  },
  {
   "cell_type": "code",
   "execution_count": 22,
   "metadata": {},
   "outputs": [],
   "source": [
    "# Appending the 'id' feature to the list of features to drop\n",
    "list_to_drop.append('id')"
   ]
  },
  {
   "cell_type": "markdown",
   "metadata": {},
   "source": [
    "Througout the preprocessing, we'll work on the train and test sets on the same time.<br>\n",
    "Thus, whenever we'll remove outliers, filling missing values etcetra, we'll do it for each data set."
   ]
  },
  {
   "cell_type": "markdown",
   "metadata": {},
   "source": [
    "### 1. num_of_admin_pages & admin_page_duration"
   ]
  },
  {
   "cell_type": "markdown",
   "metadata": {},
   "source": [
    "Based on graph 6, the most common value in 'num_of_admin_pages' appears approximately 45%.<br> Consequently, we fill each missing value in this feature by the median of the backward and forward observations.<br>It gives us more accurate information on the train.<br>We fill the missing values in this feature in the test set by the median of this feature in the train set.<br>\n",
    "\n",
    "We decide to fill the missing values in 'admin_page_duration' in the train set according to the values in 'num_of_admin_pages' because of their high correlation we saw above, in the heatmap and in the scatter plots.<br>In the test set, we fill the missing values by the mean of this feature in the train set.<br>\n",
    "\n",
    "We shall removing outliers in both columns based on the scatter plot in graph 3."
   ]
  },
  {
   "cell_type": "code",
   "execution_count": 23,
   "metadata": {},
   "outputs": [],
   "source": [
    "def admin_features(train, test):\n",
    "    # Filling missing values in the 'num_of_admin_pages' feature\n",
    "    train = fill_NA_median_backward_foward('num_of_admin_pages', train) \n",
    "\n",
    "    value = median_value('num_of_admin_pages', train)\n",
    "    test['num_of_admin_pages'] = test['num_of_admin_pages'].fillna(value)\n",
    "    \n",
    "    # Filling missing values in the 'admin_page_duration' feature\n",
    "    train = fill_NA_feature_based_on_feature('num_of_admin_pages', 'admin_page_duration', train)\n",
    "\n",
    "    value = mean_value('admin_page_duration', train)\n",
    "    test['admin_page_duration'] = test['admin_page_duration'].fillna(value)\n",
    "\n",
    "    # Removing outliers according to the thresholds based on the visualization\n",
    "    train = train.drop(train[(train['admin_page_duration'] > 3000) | (train['num_of_admin_pages'] > 25)].index)\n",
    "\n",
    "    return train, test"
   ]
  },
  {
   "cell_type": "code",
   "execution_count": 24,
   "metadata": {},
   "outputs": [],
   "source": [
    "train, test = admin_features(train, test)"
   ]
  },
  {
   "cell_type": "markdown",
   "metadata": {},
   "source": [
    "### 2. num_of_info_pages & info_page_duration"
   ]
  },
  {
   "cell_type": "markdown",
   "metadata": {},
   "source": [
    "As we can see in graph 6, the most common value in the 'num_of_info_pages' appears in more than 80% of the observations so we decide to fill the missing values with it.<br>\n",
    "\n",
    "The values in the 'info_page_duration' consist \"XXX minutes\".<br>Therefore, we decide to remove the characters that come after the number of minutes and then convert the values to float type.<br>\n",
    "\n",
    "Later, we plot the histogram of 'info_page_duration' and we see that its most common value appears in almost 80% of the observations so we decide to fill the missing values with it.<br>\n",
    "\n",
    "After checking the correlation of 'info_pages_duration' with the other features, we notice a high correlation between 'num_of_info_pages' to 'info_page_duration'.<br>As a result, we use scatter plot to remove outliers their outliers.\n"
   ]
  },
  {
   "cell_type": "code",
   "execution_count": 25,
   "metadata": {},
   "outputs": [],
   "source": [
    "def info_features1(train, test):\n",
    "    # Filling the missing values in the 'num_of_info_pages' feature\n",
    "    train = fill_NA_common_value('num_of_info_pages', train)\n",
    "\n",
    "    value = common_value('num_of_info_pages', train)\n",
    "    test['num_of_info_pages'] = test['num_of_info_pages'].fillna(value)\n",
    "\n",
    "    # Splitting the strings and converting the values to float\n",
    "    train['info_page_duration'] = train[\"info_page_duration\"].str.split(\" \", 1, expand=True)\n",
    "    train['info_page_duration'] = train['info_page_duration'].astype(float)\n",
    "\n",
    "    test['info_page_duration'] = test[\"info_page_duration\"].str.split(\" \", 1, expand=True)\n",
    "    test['info_page_duration'] = test['info_page_duration'].astype(float)\n",
    "\n",
    "    return train, test\n"
   ]
  },
  {
   "cell_type": "code",
   "execution_count": 26,
   "metadata": {},
   "outputs": [],
   "source": [
    "train, test = info_features1(train, test)"
   ]
  },
  {
   "cell_type": "code",
   "execution_count": 27,
   "metadata": {},
   "outputs": [
    {
     "data": {
      "text/plain": [
       "Text(0.5, 1.0, 'Graph #10 - info_page_duration histogram')"
      ]
     },
     "execution_count": 27,
     "metadata": {},
     "output_type": "execute_result"
    },
    {
     "data": {
      "image/png": "[encoded data removed]",
      "text/plain": [
       "<Figure size 432x288 with 1 Axes>"
      ]
     },
     "metadata": {
      "needs_background": "light"
     },
     "output_type": "display_data"
    }
   ],
   "source": [
    "# Plotting 'info_page_duration' histogram\n",
    "train['info_page_duration'].plot.hist(bins = 50)\n",
    "plt.title('Graph #10 - info_page_duration histogram', size = 14)"
   ]
  },
  {
   "cell_type": "code",
   "execution_count": 28,
   "metadata": {},
   "outputs": [
    {
     "data": {
      "text/plain": [
       "id                      0.046049\n",
       "num_of_admin_pages      0.250407\n",
       "admin_page_duration     0.215563\n",
       "num_of_info_pages       0.604883\n",
       "info_page_duration      1.000000\n",
       "num_of_product_pages    0.266193\n",
       "total_duration          0.414466\n",
       "BounceRates            -0.073595\n",
       "ExitRates              -0.105758\n",
       "PageValues              0.027535\n",
       "closeness_to_holiday   -0.035953\n",
       "device                 -0.011664\n",
       "Region                 -0.025563\n",
       "B                      -0.013118\n",
       "D                      -0.247633\n",
       "Name: info_page_duration, dtype: float64"
      ]
     },
     "execution_count": 28,
     "metadata": {},
     "output_type": "execute_result"
    }
   ],
   "source": [
    "# Checking the correlation of 'info_pages_duration' with the other features\n",
    "train[train.columns[:-1]].corr()['info_page_duration'][:]"
   ]
  },
  {
   "cell_type": "code",
   "execution_count": 29,
   "metadata": {},
   "outputs": [
    {
     "data": {
      "text/plain": [
       "Text(0.5, 1.0, 'Graph #11 - scatter between num_of_info_pages and info_page_duration')"
      ]
     },
     "execution_count": 29,
     "metadata": {},
     "output_type": "execute_result"
    },
    {
     "data": {
      "image/png": "[encoded data removed]",
      "text/plain": [
       "<Figure size 432x288 with 1 Axes>"
      ]
     },
     "metadata": {
      "needs_background": "light"
     },
     "output_type": "display_data"
    }
   ],
   "source": [
    "# Plottting these features' scatter plot\n",
    "train.plot.scatter(x='num_of_info_pages', y='info_page_duration')\n",
    "plt.title(f'Graph #11 - scatter between num_of_info_pages and info_page_duration', size = 14)\n"
   ]
  },
  {
   "cell_type": "code",
   "execution_count": 30,
   "metadata": {},
   "outputs": [],
   "source": [
    "def info_features2(train, test):\n",
    "    # Filling the missing values in the 'info_page_duration' feature\n",
    "    train = fill_NA_common_value('info_page_duration', train)\n",
    "\n",
    "    value = common_value('info_page_duration', train)\n",
    "    test['info_page_duration'] = test['info_page_duration'].fillna(value)\n",
    "    \n",
    "    # Removing outliers in both columns based on the visualization\n",
    "    train = train.drop(train[(train['info_page_duration'] > 2000) | (train['num_of_info_pages'] > 15)].index)\n",
    "\n",
    "    return train, test"
   ]
  },
  {
   "cell_type": "code",
   "execution_count": 31,
   "metadata": {},
   "outputs": [],
   "source": [
    "train, test = info_features2(train, test)"
   ]
  },
  {
   "cell_type": "code",
   "execution_count": 32,
   "metadata": {},
   "outputs": [],
   "source": [
    "# Creating a function that unite the sub-functions\n",
    "def info_features(train, test):\n",
    "    train, test = info_features1(train, test)\n",
    "    train, test = info_features2(train, test)\n",
    "    return train, test\n"
   ]
  },
  {
   "cell_type": "markdown",
   "metadata": {},
   "source": [
    "### 3. num_of_product_pages & product_page_duration"
   ]
  },
  {
   "cell_type": "markdown",
   "metadata": {},
   "source": [
    "Based on the graph 6, there is no one value that appears most of the times in the 'num_of_product_pages' feature.<br>Consequently, we fill the missing values by the median of the backward and forward observations.<br>Therefore, we fill the missing values in this feature in the test set by the median of this feature in the train set.\n",
    "\n",
    "The values in the 'info_page_duration' consist \"XXX minutes\".<br>Therefore, we decide to remove the characters that come after the number of minutes and then convert the values to float type.<br>\n",
    "\n",
    "At this point, after the feature's type changed to numeric, we check the correlation between 'num_of_product_pages' and 'product_page_duration' in order to fill the missing values in the last one.<br>\n",
    "\n",
    "Filling in the train set the 'num_of_product_pages' missing values according to the values in 'product_page_duration' gives us more information.<br>We find the mean of the 'product_page_duration' feature and fill it in the missing values in this feature in the test set.<br>\n",
    "Due to their high correlation, we shall plot their trand with scatter plot and remove outliers."
   ]
  },
  {
   "cell_type": "code",
   "execution_count": 33,
   "metadata": {},
   "outputs": [],
   "source": [
    "def product_features1(train, test):\n",
    "    # Filling the missing values in the 'num_of_admin_pages' feature\n",
    "    train = fill_NA_median_backward_foward('num_of_product_pages', train) \n",
    "\n",
    "    value = median_value('num_of_product_pages', train)\n",
    "    test['num_of_product_pages'] = test['num_of_product_pages'].fillna(value)\n",
    "    \n",
    "    # Splitting the strings and converting the values to float\n",
    "    train['product_page_duration'] = train[\"product_page_duration\"].str.split(\" \",1,expand=True)\n",
    "    train['product_page_duration'] = train['product_page_duration'].astype(float)\n",
    "\n",
    "    test['product_page_duration'] = test[\"product_page_duration\"].str.split(\" \",1,expand=True)\n",
    "    test['product_page_duration'] = test['product_page_duration'].astype(float)\n",
    "\n",
    "    return train, test"
   ]
  },
  {
   "cell_type": "code",
   "execution_count": 34,
   "metadata": {},
   "outputs": [],
   "source": [
    "train, test = product_features1(train, test)"
   ]
  },
  {
   "cell_type": "code",
   "execution_count": 35,
   "metadata": {},
   "outputs": [
    {
     "data": {
      "text/plain": [
       "0.855464495461291"
      ]
     },
     "execution_count": 35,
     "metadata": {},
     "output_type": "execute_result"
    }
   ],
   "source": [
    "# Checking both features correlation\n",
    "train['num_of_product_pages'].corr(train['product_page_duration'])"
   ]
  },
  {
   "cell_type": "code",
   "execution_count": 36,
   "metadata": {},
   "outputs": [
    {
     "data": {
      "text/plain": [
       "Text(0.5, 1.0, 'Graph #12 - scatter between num_of_product_pages and product_page_duration')"
      ]
     },
     "execution_count": 36,
     "metadata": {},
     "output_type": "execute_result"
    },
    {
     "data": {
      "image/png": "[encoded data removed]",
      "text/plain": [
       "<Figure size 432x288 with 1 Axes>"
      ]
     },
     "metadata": {
      "needs_background": "light"
     },
     "output_type": "display_data"
    }
   ],
   "source": [
    "# Plottting these features' scatter plot\n",
    "train.plot.scatter(x=\"num_of_product_pages\", y=\"product_page_duration\")\n",
    "plt.title(f'Graph #12 - scatter between num_of_product_pages and product_page_duration', size = 14)"
   ]
  },
  {
   "cell_type": "code",
   "execution_count": 37,
   "metadata": {},
   "outputs": [],
   "source": [
    "def product_features2(train, test):\n",
    "  # Filling the missing values in the 'product_page_duration' feature\n",
    "  train = fill_NA_feature_based_on_feature('num_of_product_pages', 'product_page_duration', train)\n",
    "\n",
    "  value = mean_value('product_page_duration', train)\n",
    "  test['product_page_duration'] = test['product_page_duration'].fillna(value)\n",
    "\n",
    "  # Removing outliers in both columns based on the visualization\n",
    "  train = train.drop(train[(train['product_page_duration'] > 15000) | (train['num_of_product_pages'] > 400)].index)\n",
    "\n",
    "  return train, test"
   ]
  },
  {
   "cell_type": "code",
   "execution_count": 38,
   "metadata": {},
   "outputs": [],
   "source": [
    "train, test = product_features2(train, test)"
   ]
  },
  {
   "cell_type": "code",
   "execution_count": 39,
   "metadata": {},
   "outputs": [],
   "source": [
    "# Creating a function that unite the sub-functions\n",
    "def product_features(train, test):\n",
    "    train, test = product_features1(train, test)\n",
    "    train, test = product_features2(train, test)\n",
    "    return train, test"
   ]
  },
  {
   "cell_type": "markdown",
   "metadata": {},
   "source": [
    "### 4. total_duration"
   ]
  },
  {
   "cell_type": "markdown",
   "metadata": {},
   "source": [
    "We want to compare the other feature's values when 'total_duration' has missing values and when it has not."
   ]
  },
  {
   "cell_type": "code",
   "execution_count": 40,
   "metadata": {},
   "outputs": [
    {
     "data": {
      "text/html": [
       "<div>\n",
       "<style scoped>\n",
       "    .dataframe tbody tr th:only-of-type {\n",
       "        vertical-align: middle;\n",
       "    }\n",
       "\n",
       "    .dataframe tbody tr th {\n",
       "        vertical-align: top;\n",
       "    }\n",
       "\n",
       "    .dataframe thead th {\n",
       "        text-align: right;\n",
       "    }\n",
       "</style>\n",
       "<table border=\"1\" class=\"dataframe\">\n",
       "  <thead>\n",
       "    <tr style=\"text-align: right;\">\n",
       "      <th></th>\n",
       "      <th>id</th>\n",
       "      <th>num_of_admin_pages</th>\n",
       "      <th>admin_page_duration</th>\n",
       "      <th>num_of_info_pages</th>\n",
       "      <th>info_page_duration</th>\n",
       "      <th>num_of_product_pages</th>\n",
       "      <th>product_page_duration</th>\n",
       "      <th>total_duration</th>\n",
       "      <th>BounceRates</th>\n",
       "      <th>ExitRates</th>\n",
       "      <th>PageValues</th>\n",
       "      <th>closeness_to_holiday</th>\n",
       "      <th>device</th>\n",
       "      <th>Region</th>\n",
       "      <th>B</th>\n",
       "      <th>D</th>\n",
       "      <th>purchase</th>\n",
       "    </tr>\n",
       "    <tr>\n",
       "      <th>total_duration</th>\n",
       "      <th></th>\n",
       "      <th></th>\n",
       "      <th></th>\n",
       "      <th></th>\n",
       "      <th></th>\n",
       "      <th></th>\n",
       "      <th></th>\n",
       "      <th></th>\n",
       "      <th></th>\n",
       "      <th></th>\n",
       "      <th></th>\n",
       "      <th></th>\n",
       "      <th></th>\n",
       "      <th></th>\n",
       "      <th></th>\n",
       "      <th></th>\n",
       "      <th></th>\n",
       "    </tr>\n",
       "  </thead>\n",
       "  <tbody>\n",
       "    <tr>\n",
       "      <th>False</th>\n",
       "      <td>5210.465686</td>\n",
       "      <td>2.283613</td>\n",
       "      <td>75.345334</td>\n",
       "      <td>0.449755</td>\n",
       "      <td>30.823089</td>\n",
       "      <td>31.301120</td>\n",
       "      <td>1125.603929</td>\n",
       "      <td>1252.85429</td>\n",
       "      <td>0.022027</td>\n",
       "      <td>0.043145</td>\n",
       "      <td>5.836630</td>\n",
       "      <td>0.065127</td>\n",
       "      <td>2.124526</td>\n",
       "      <td>3.132995</td>\n",
       "      <td>99.819221</td>\n",
       "      <td>3.883164</td>\n",
       "      <td>0.154587</td>\n",
       "    </tr>\n",
       "    <tr>\n",
       "      <th>True</th>\n",
       "      <td>5265.094897</td>\n",
       "      <td>2.326866</td>\n",
       "      <td>79.423566</td>\n",
       "      <td>0.468790</td>\n",
       "      <td>32.000817</td>\n",
       "      <td>31.103121</td>\n",
       "      <td>1142.614676</td>\n",
       "      <td>NaN</td>\n",
       "      <td>0.021730</td>\n",
       "      <td>0.042634</td>\n",
       "      <td>5.993898</td>\n",
       "      <td>0.058507</td>\n",
       "      <td>2.120697</td>\n",
       "      <td>3.186548</td>\n",
       "      <td>99.727026</td>\n",
       "      <td>4.221599</td>\n",
       "      <td>0.154365</td>\n",
       "    </tr>\n",
       "  </tbody>\n",
       "</table>\n",
       "</div>"
      ],
      "text/plain": [
       "                         id  num_of_admin_pages  admin_page_duration  \\\n",
       "total_duration                                                         \n",
       "False           5210.465686            2.283613            75.345334   \n",
       "True            5265.094897            2.326866            79.423566   \n",
       "\n",
       "                num_of_info_pages  info_page_duration  num_of_product_pages  \\\n",
       "total_duration                                                                \n",
       "False                    0.449755           30.823089             31.301120   \n",
       "True                     0.468790           32.000817             31.103121   \n",
       "\n",
       "                product_page_duration  total_duration  BounceRates  ExitRates  \\\n",
       "total_duration                                                                  \n",
       "False                     1125.603929      1252.85429     0.022027   0.043145   \n",
       "True                      1142.614676             NaN     0.021730   0.042634   \n",
       "\n",
       "                PageValues  closeness_to_holiday    device    Region  \\\n",
       "total_duration                                                         \n",
       "False             5.836630              0.065127  2.124526  3.132995   \n",
       "True              5.993898              0.058507  2.120697  3.186548   \n",
       "\n",
       "                        B         D  purchase  \n",
       "total_duration                                 \n",
       "False           99.819221  3.883164  0.154587  \n",
       "True            99.727026  4.221599  0.154365  "
      ]
     },
     "execution_count": 40,
     "metadata": {},
     "output_type": "execute_result"
    }
   ],
   "source": [
    "train.groupby(train['total_duration'].isnull()).mean()"
   ]
  },
  {
   "cell_type": "markdown",
   "metadata": {},
   "source": [
    "We see that they behave similarly so we can put the mean in the missing values. <br>\n",
    "\n",
    "We also want to visualize the density in order to understand which values should we consider as outliers and then remove them.\n",
    "\n"
   ]
  },
  {
   "cell_type": "code",
   "execution_count": 41,
   "metadata": {},
   "outputs": [],
   "source": [
    "def total_duration_feature(train, test):\n",
    "    # Filling the missing values in the 'total_duration' feature\n",
    "    train = fill_NA_mean('total_duration', train)\n",
    "    value  = mean_value('total_duration', train)\n",
    "\n",
    "    test['total_duration'] = test['total_duration'].fillna(value)\n",
    "\n",
    "    # Dropping the outliers of the feature based on the plot above\n",
    "    train = train.drop(train[(train['total_duration'] > 6000)].index)\n",
    "\n",
    "    return train, test\n",
    "    "
   ]
  },
  {
   "cell_type": "code",
   "execution_count": 42,
   "metadata": {},
   "outputs": [
    {
     "data": {
      "text/plain": [
       "Text(0.5, 1.0, 'Graph #13 - total_duration density')"
      ]
     },
     "execution_count": 42,
     "metadata": {},
     "output_type": "execute_result"
    },
    {
     "data": {
      "image/png": "[encoded data removed]",
      "text/plain": [
       "<Figure size 432x288 with 1 Axes>"
      ]
     },
     "metadata": {
      "needs_background": "light"
     },
     "output_type": "display_data"
    }
   ],
   "source": [
    "# Plotting the feature's density\n",
    "train['total_duration'].plot.kde()\n",
    "plt.title(f'Graph #13 - total_duration density' , size = 14)"
   ]
  },
  {
   "cell_type": "code",
   "execution_count": 43,
   "metadata": {},
   "outputs": [],
   "source": [
    "train, test = total_duration_feature(train,test)"
   ]
  },
  {
   "cell_type": "markdown",
   "metadata": {},
   "source": [
    "### 5. BounceRates & Exitrates\n"
   ]
  },
  {
   "cell_type": "markdown",
   "metadata": {},
   "source": [
    "We notice that the values in both columns are very low -  between 0 to 0.2.<br>In addition, there are few missing values for each feature.<br>Consequently, we decide to fill the missing values with the most frequent value in each feature.<br>\n",
    "\n",
    "Based on graph 5, we remove the outliers."
   ]
  },
  {
   "cell_type": "code",
   "execution_count": 44,
   "metadata": {},
   "outputs": [],
   "source": [
    "def rate_features(train, test):\n",
    "    # Filling the missing values in the 'BounceRates' feature\n",
    "    train = fill_NA_common_value('BounceRates', train)\n",
    "\n",
    "    value = common_value('BounceRates', train)\n",
    "    test['BounceRates'] = test['BounceRates'].fillna(value)\n",
    "\n",
    "    # Filling the missing values in the 'ExitRates' feature\n",
    "    train = fill_NA_common_value('ExitRates', train)\n",
    "\n",
    "    value = common_value('ExitRates', train)\n",
    "    test['ExitRates'] = test['ExitRates'].fillna(value)\n",
    "    \n",
    "    # Dropping the ouliers based on graph 5\n",
    "    train = train.drop(train[(train['BounceRates'] > 0.15) & (train['ExitRates'] < 0.11)].index)\n",
    "\n",
    "    return train, test\n",
    "    "
   ]
  },
  {
   "cell_type": "code",
   "execution_count": 45,
   "metadata": {},
   "outputs": [],
   "source": [
    "train, test = rate_features(train, test)"
   ]
  },
  {
   "cell_type": "markdown",
   "metadata": {},
   "source": [
    "According to graph 5, we also notice the high correlation between both features.<br>In the next stages of the project, we might consider adding a new feature that would be some kind of linear combination of those features, and then replace them with it."
   ]
  },
  {
   "cell_type": "markdown",
   "metadata": {},
   "source": [
    "### 6. PageValues & closeness_to_holiday"
   ]
  },
  {
   "cell_type": "code",
   "execution_count": 46,
   "metadata": {},
   "outputs": [
    {
     "data": {
      "text/plain": [
       "count    10270.000000\n",
       "mean         5.910878\n",
       "std         18.837172\n",
       "min          0.000000\n",
       "25%          0.000000\n",
       "50%          0.000000\n",
       "75%          0.000000\n",
       "max        361.763742\n",
       "Name: PageValues, dtype: float64"
      ]
     },
     "execution_count": 46,
     "metadata": {},
     "output_type": "execute_result"
    }
   ],
   "source": [
    "# Describing the 'PageValues' feature\n",
    "train['PageValues'].describe()"
   ]
  },
  {
   "cell_type": "markdown",
   "metadata": {},
   "source": [
    "On the one hand, we see that 75% of the values are 0 and the maximum value is above 361.\n",
    "<br>It might indicates us that there are outliers.<br>On the other hand, the values are a measurement to value in money.<br>\n",
    "Therefore, we won't refer these values as outliers.\n",
    "<br>\n",
    "As a result, we decide to fill the few missing values that we have according to the feature's common value.\n"
   ]
  },
  {
   "cell_type": "markdown",
   "metadata": {},
   "source": [
    "We do the same process in the 'closeness_to_holiday' feature:"
   ]
  },
  {
   "cell_type": "code",
   "execution_count": 47,
   "metadata": {},
   "outputs": [
    {
     "data": {
      "text/plain": [
       "count    9808.000000\n",
       "mean        0.062418\n",
       "std         0.200089\n",
       "min         0.000000\n",
       "25%         0.000000\n",
       "50%         0.000000\n",
       "75%         0.000000\n",
       "max         1.000000\n",
       "Name: closeness_to_holiday, dtype: float64"
      ]
     },
     "execution_count": 47,
     "metadata": {},
     "output_type": "execute_result"
    }
   ],
   "source": [
    "# Describing the 'closeness_to_holiday' feature\n",
    "train['closeness_to_holiday'].describe()\n"
   ]
  },
  {
   "cell_type": "markdown",
   "metadata": {},
   "source": [
    "More than 75% of the values are 0. Furthermore, we don't need to remove outliers because the values are in permanent distances between 0 to 1.\n"
   ]
  },
  {
   "cell_type": "code",
   "execution_count": 48,
   "metadata": {},
   "outputs": [],
   "source": [
    "def pagevalue_and_closeness_to_holiday_features(train, test):\n",
    "    # Filling the missing values in the 'PageValues' feature\n",
    "    train = fill_NA_common_value('PageValues', train)\n",
    "\n",
    "    value = common_value('PageValues', train)\n",
    "    test['PageValues'] = test['PageValues'].fillna(value)\n",
    "\n",
    "    # Filling missing values in the 'closeness_to_holiday' feature\n",
    "    train = fill_NA_common_value('closeness_to_holiday', train)\n",
    "\n",
    "    value = common_value('closeness_to_holiday', train)\n",
    "    test['closeness_to_holiday'] = test['closeness_to_holiday'].fillna(value)\n",
    "        \n",
    "    return train, test"
   ]
  },
  {
   "cell_type": "code",
   "execution_count": 49,
   "metadata": {},
   "outputs": [],
   "source": [
    "train, test = pagevalue_and_closeness_to_holiday_features(train, test)"
   ]
  },
  {
   "cell_type": "markdown",
   "metadata": {},
   "source": [
    "###  7. Month"
   ]
  },
  {
   "cell_type": "code",
   "execution_count": 50,
   "metadata": {},
   "outputs": [
    {
     "name": "stdout",
     "output_type": "stream",
     "text": [
      "missing values:  25\n"
     ]
    },
    {
     "data": {
      "image/png": "[encoded data removed]",
      "text/plain": [
       "<Figure size 360x360 with 1 Axes>"
      ]
     },
     "metadata": {},
     "output_type": "display_data"
    }
   ],
   "source": [
    "# Printing the number of missing values and plotting the value count\n",
    "missing_value = train['Month'].isnull().sum()\n",
    "print(\"missing values: \", missing_value)\n",
    "train['Month'].value_counts().plot.pie(autopct='%1.1f%%', shadow=True, figsize=(5,5), textprops = dict(color =\"White\"))\n",
    "plt.title('Graph #14 - Pie Chart for Month', color='White', size = 14)\n",
    "plt.show()\n"
   ]
  },
  {
   "cell_type": "markdown",
   "metadata": {},
   "source": [
    "Due to the fact that there are only 25 missing values in this feature, we fill them with the feature's most common value.<br>\n",
    "Furthermore, because this feature is categorical, we have to create dummy variables."
   ]
  },
  {
   "cell_type": "code",
   "execution_count": 51,
   "metadata": {},
   "outputs": [],
   "source": [
    "def month_feature(train, test):\n",
    "    # Filling the missing values in the 'Month' feature\n",
    "    train = fill_NA_common_value('Month', train)\n",
    "\n",
    "    value = common_value('Month', train)\n",
    "    test['Month'] = test['Month'].fillna(value)\n",
    "\n",
    "    train = pd.get_dummies(train, prefix=\"Month\", columns=[\"Month\"], drop_first=False)\n",
    "    test = pd.get_dummies(test, prefix=\"Month\", columns=[\"Month\"], drop_first=False)\n",
    "\n",
    "    return train, test"
   ]
  },
  {
   "cell_type": "code",
   "execution_count": 52,
   "metadata": {},
   "outputs": [],
   "source": [
    "train, test = month_feature(train, test)"
   ]
  },
  {
   "cell_type": "markdown",
   "metadata": {},
   "source": [
    "### 8. device"
   ]
  },
  {
   "cell_type": "markdown",
   "metadata": {},
   "source": [
    " Based on graph 7, we didn't see differences in the 'decvice' feature's values when the purchase was 0 and 1.<br>\n",
    " Although it seemed that this feature wouldn't help us to forecast the purchase label, we decide to keep it. It might help us later. <br>\n",
    "<br>\n",
    "In this feature, we decide to fill the missing values with a new categorial value - 'unknown'.<br>\n",
    "\n",
    "In light of the categorical type of this feature, we have to create dummy veriables."
   ]
  },
  {
   "cell_type": "code",
   "execution_count": 53,
   "metadata": {},
   "outputs": [],
   "source": [
    "def device_feature(train, test):\n",
    "    # Filling the missing values in the 'device' feature\n",
    "    train = fill_NA_unknown('device', train)\n",
    "    test = fill_NA_unknown('device', test)\n",
    "\n",
    "    train = pd.get_dummies(train, prefix=\"device\", columns=[\"device\"],drop_first=False)\n",
    "    test = pd.get_dummies(test, prefix=\"device\", columns=[\"device\"],drop_first=False)\n",
    "\n",
    "    return train, test"
   ]
  },
  {
   "cell_type": "code",
   "execution_count": 54,
   "metadata": {},
   "outputs": [],
   "source": [
    "train, test = device_feature(train, test)"
   ]
  },
  {
   "cell_type": "markdown",
   "metadata": {},
   "source": [
    "### 9. internet_browser"
   ]
  },
  {
   "cell_type": "markdown",
   "metadata": {},
   "source": [
    "In this feature, we decide to fill the missing values with a new categorial value - 'unknown'.<br>\n",
    "\n",
    "Each browser has different versions. For our models, we grouped by all the versions of each browser and referred it by the browser name.<br>\n",
    "In addition, we create dummy variables due to the feature's categorical type."
   ]
  },
  {
   "cell_type": "code",
   "execution_count": 55,
   "metadata": {},
   "outputs": [],
   "source": [
    "def internetbrowser_feature(train, test):\n",
    "    # Filling the missing values in the 'internet_browser' feature\n",
    "    train = fill_NA_unknown('internet_browser', train)\n",
    "    test = fill_NA_unknown('internet_browser', test)\n",
    "\n",
    "    # Creating a function that groupe by the browsers' versions\n",
    "    def browser_name(data):\n",
    "        data['internet_browser'] = data['internet_browser'].where(data['internet_browser'].str.startswith('browser')==False, 'browser') \n",
    "        data['internet_browser'] = data['internet_browser'].where(data['internet_browser'].str.startswith('chrome')==False, 'chrome')\n",
    "        data['internet_browser'] = data['internet_browser'].where(data['internet_browser'].str.startswith('edge')==False, 'edge')\n",
    "        data['internet_browser'] = data['internet_browser'].where(data['internet_browser'].str.startswith('safari')==False, 'safari')\n",
    "\n",
    "    browser_name(train)\n",
    "    browser_name(test)\n",
    "\n",
    "    # Converting the feature to dummy variables\n",
    "    train = pd.get_dummies(train, prefix=\"internet_browser\", columns=[\"internet_browser\"], drop_first=False)\n",
    "    test = pd.get_dummies(test, prefix=\"internet_browser\", columns=[\"internet_browser\"], drop_first=False)\n",
    "    \n",
    "    return train, test"
   ]
  },
  {
   "cell_type": "code",
   "execution_count": 56,
   "metadata": {},
   "outputs": [],
   "source": [
    "train, test = internetbrowser_feature(train, test)"
   ]
  },
  {
   "cell_type": "markdown",
   "metadata": {},
   "source": [
    "### 10. Region"
   ]
  },
  {
   "cell_type": "code",
   "execution_count": 57,
   "metadata": {},
   "outputs": [
    {
     "name": "stdout",
     "output_type": "stream",
     "text": [
      "missing values:  19\n"
     ]
    },
    {
     "data": {
      "image/png": "[encoded data removed]",
      "text/plain": [
       "<Figure size 360x360 with 1 Axes>"
      ]
     },
     "metadata": {},
     "output_type": "display_data"
    }
   ],
   "source": [
    "# Printing the number of missing values and plotting the value count\n",
    "missing_value = train['Region'].isnull().sum()\n",
    "print(\"missing values: \", missing_value)\n",
    "train['Region'].value_counts().plot.pie(autopct='%1.1f%%', shadow=True, figsize=(5,5), textprops = dict(color =\"White\"))\n",
    "plt.title('Graph #15 - Pie Chart for Month', color='White', size = 14)\n",
    "plt.show()"
   ]
  },
  {
   "cell_type": "markdown",
   "metadata": {},
   "source": [
    "As we can infer from the pie chart, region 1 is the most common region, the next common value appears less of half of the times.<br> That's the reason we choose to fill the missing values with the most common value.<br>\n",
    "\n",
    "At last, since this feature is categorical, we need to create dummy variables."
   ]
  },
  {
   "cell_type": "code",
   "execution_count": 58,
   "metadata": {},
   "outputs": [],
   "source": [
    "def region_feature(train, test):\n",
    "    # Filling the missing values in the 'Region' feature\n",
    "    train = fill_NA_common_value('Region',train)\n",
    "\n",
    "    value = common_value('Region',train)\n",
    "    test['Region'] = test['Region'].fillna(value)\n",
    "\n",
    "    # Converting the feature to dummy variables\n",
    "    train = pd.get_dummies(train, prefix=\"Region\", columns=[\"Region\"], drop_first=False)\n",
    "    test = pd.get_dummies(test, prefix=\"Region\", columns=[\"Region\"], drop_first=False)\n",
    "\n",
    "    return train, test\n"
   ]
  },
  {
   "cell_type": "code",
   "execution_count": 59,
   "metadata": {},
   "outputs": [],
   "source": [
    "train, test = region_feature(train, test)"
   ]
  },
  {
   "cell_type": "markdown",
   "metadata": {},
   "source": [
    "### 11. user type"
   ]
  },
  {
   "cell_type": "code",
   "execution_count": 60,
   "metadata": {},
   "outputs": [
    {
     "name": "stdout",
     "output_type": "stream",
     "text": [
      "missing values:  23\n"
     ]
    },
    {
     "data": {
      "text/plain": [
       "Returning_Visitor    8775\n",
       "New_Visitor          1427\n",
       "Other                  72\n",
       "Name: user_type, dtype: int64"
      ]
     },
     "execution_count": 60,
     "metadata": {},
     "output_type": "execute_result"
    }
   ],
   "source": [
    "# Printing the number of missing values and the value count\n",
    "missing_value = train['user_type'].isnull().sum()\n",
    "print(\"missing values: \", missing_value)\n",
    "train['user_type'].value_counts()"
   ]
  },
  {
   "cell_type": "markdown",
   "metadata": {},
   "source": [
    "85% of the values are 'Returning_Visitor'. Consequently, we fill the missing values with it. Then, we create dummy variables once again."
   ]
  },
  {
   "cell_type": "code",
   "execution_count": 61,
   "metadata": {},
   "outputs": [],
   "source": [
    "def usertype_feature(train, test):\n",
    "    # Filling the missing values by the commoon value\n",
    "    train = fill_NA_common_value('user_type', train)\n",
    "\n",
    "    value = common_value('user_type', train)\n",
    "    test['user_type'] = test['user_type'].fillna(value)\n",
    "\n",
    "    # Converting the feature to dummy variables\n",
    "    train = pd.get_dummies(train, prefix=\"user_type\", columns=[\"user_type\"], drop_first=False)\n",
    "    test = pd.get_dummies(test, prefix=\"user_type\", columns=[\"user_type\"], drop_first=False)\n",
    "\n",
    "    return train, test"
   ]
  },
  {
   "cell_type": "code",
   "execution_count": 62,
   "metadata": {},
   "outputs": [],
   "source": [
    "train, test = usertype_feature(train, test)"
   ]
  },
  {
   "cell_type": "markdown",
   "metadata": {},
   "source": [
    "### 12. Weekend"
   ]
  },
  {
   "cell_type": "code",
   "execution_count": 63,
   "metadata": {},
   "outputs": [
    {
     "name": "stdout",
     "output_type": "stream",
     "text": [
      "missing value: 23\n"
     ]
    },
    {
     "data": {
      "text/plain": [
       "False    7895\n",
       "True     2379\n",
       "Name: Weekend, dtype: int64"
      ]
     },
     "execution_count": 63,
     "metadata": {},
     "output_type": "execute_result"
    }
   ],
   "source": [
    "# Printing the number of missing values and the value count\n",
    "missing_value = train['Weekend'].isnull().sum()\n",
    "print(\"missing value:\",missing_value)\n",
    "train['Weekend'].value_counts()"
   ]
  },
  {
   "cell_type": "markdown",
   "metadata": {},
   "source": [
    "76% of the values are 'False'. Consequently, we fill the missing values with it. Then, we convert this feature's type to float."
   ]
  },
  {
   "cell_type": "code",
   "execution_count": 64,
   "metadata": {},
   "outputs": [],
   "source": [
    "def weekend_feature(train, test):\n",
    "    # Filling the missing values by the commoon value\n",
    "    train = fill_NA_common_value('Weekend', train)\n",
    "\n",
    "    value = common_value('Weekend', train)\n",
    "    test['Weekend'] = test['Weekend'].fillna(value)\n",
    "\n",
    "    # Converting the feature's type to float, whereas 'False' becomes 0 and 'True' becomes 1\n",
    "    train['Weekend'] = train['Weekend'].astype(bool).astype(float)\n",
    "    test['Weekend'] = test['Weekend'].astype(bool).astype(float)\n",
    "\n",
    "    return train, test"
   ]
  },
  {
   "cell_type": "code",
   "execution_count": 65,
   "metadata": {},
   "outputs": [],
   "source": [
    "train, test = weekend_feature(train, test)"
   ]
  },
  {
   "cell_type": "markdown",
   "metadata": {},
   "source": [
    "### 13. 'A'"
   ]
  },
  {
   "cell_type": "markdown",
   "metadata": {},
   "source": [
    "In the train set, we have few hundreds of missing values in this feature, so we change them to a new value - 'unknown'. <br>\n",
    "\n",
    "In addition, there are many values that starts with 'c_20', so we changed them to 'c_20'."
   ]
  },
  {
   "cell_type": "code",
   "execution_count": 66,
   "metadata": {},
   "outputs": [],
   "source": [
    "def A_feature1(train, test):\n",
    "    # Filling missing values in the 'A' feature\n",
    "    train = fill_NA_unknown('A', train)\n",
    "    test = fill_NA_unknown('A', test)\n",
    "\n",
    "    # Shorting the strings that starts with 'c_20'\n",
    "    train['A'] = train['A'].where(train['A'].str.startswith('c_20')==False, 'c_20') \n",
    "    test['A'] = test['A'].where(test['A'].str.startswith('c_20')==False, 'c_20')\n",
    "\n",
    "    return train, test"
   ]
  },
  {
   "cell_type": "code",
   "execution_count": 67,
   "metadata": {},
   "outputs": [],
   "source": [
    "train, test = A_feature1(train, test)"
   ]
  },
  {
   "cell_type": "code",
   "execution_count": 68,
   "metadata": {},
   "outputs": [
    {
     "data": {
      "text/plain": [
       "c_2        3014\n",
       "c_1        1918\n",
       "c_3        1628\n",
       "c_4         845\n",
       "unknown     694\n",
       "c_13        570\n",
       "c_10        342\n",
       "c_6         333\n",
       "c_8         262\n",
       "c_5         203\n",
       "c_11        196\n",
       "c_20        162\n",
       "c_7          34\n",
       "c_9          32\n",
       "c_15         31\n",
       "c_19         13\n",
       "c_14          9\n",
       "c_18          7\n",
       "c_16          3\n",
       "c_17          1\n",
       "Name: A, dtype: int64"
      ]
     },
     "execution_count": 68,
     "metadata": {},
     "output_type": "execute_result"
    }
   ],
   "source": [
    "# Checking the value counts of this feature in the train set\n",
    "train['A'].value_counts()"
   ]
  },
  {
   "cell_type": "code",
   "execution_count": 69,
   "metadata": {},
   "outputs": [
    {
     "data": {
      "text/plain": [
       "c_2        562\n",
       "c_1        331\n",
       "c_3        289\n",
       "c_4        143\n",
       "unknown    121\n",
       "c_13       109\n",
       "c_6         76\n",
       "c_10        57\n",
       "c_8         49\n",
       "c_5         36\n",
       "c_11        27\n",
       "c_20        26\n",
       "c_9          8\n",
       "c_15         4\n",
       "c_7          3\n",
       "c_18         3\n",
       "c_19         3\n",
       "c_14         3\n",
       "c_12         1\n",
       "Name: A, dtype: int64"
      ]
     },
     "execution_count": 69,
     "metadata": {},
     "output_type": "execute_result"
    }
   ],
   "source": [
    "# Checking the value counts of this feature in the test set\n",
    "test['A'].value_counts()"
   ]
  },
  {
   "cell_type": "markdown",
   "metadata": {},
   "source": [
    "Removeing outliers: from the train set, we remove values that appeared less than 30 times.<br>\n",
    "In the test set, we change the values that don't appear in the train set to 'unknown'.<br>\n",
    "\n",
    "As we do in every categorical feature, we need to create dummy variables."
   ]
  },
  {
   "cell_type": "code",
   "execution_count": 70,
   "metadata": {},
   "outputs": [],
   "source": [
    "def A_feature2(train, test):\n",
    "     # Creating a function that removes observations based on a threshold\n",
    "    def remove_under(data, column, threshold):\n",
    "        col = column\n",
    "        n = threshold   \n",
    "        data = data[data.groupby(col)[col].transform('count').ge(n)]\n",
    "        return data\n",
    "\n",
    "    train = remove_under(train, 'A', 30)\n",
    "\n",
    "    # Converting values that appears only in the test set to 'unknown'\n",
    "    lst = ['c_12', 'c_14', 'c_18', 'c_19']\n",
    "    for i in lst:\n",
    "        test['A'] = test['A'].where(((test['A'] == i) == False ), 'unknown')\n",
    "\n",
    "    # Converting the feature's type to numeric by dummy variables\n",
    "    train = pd.get_dummies(train, prefix=\"A\", columns=[\"A\"], drop_first=False)\n",
    "    test = pd.get_dummies(test, prefix=\"A\", columns=[\"A\"], drop_first=False)\n",
    "\n",
    "    return train, test"
   ]
  },
  {
   "cell_type": "code",
   "execution_count": 71,
   "metadata": {},
   "outputs": [],
   "source": [
    "train, test = A_feature2(train, test)"
   ]
  },
  {
   "cell_type": "code",
   "execution_count": 72,
   "metadata": {},
   "outputs": [],
   "source": [
    "# Creating a function that unite the sub-functions\n",
    "def A_feature(train, test):\n",
    "    train, test = A_feature1(train, test)\n",
    "    train, test = A_feature2(train, test)\n",
    "    return train, test"
   ]
  },
  {
   "cell_type": "markdown",
   "metadata": {},
   "source": [
    "### 14. 'B'"
   ]
  },
  {
   "cell_type": "markdown",
   "metadata": {},
   "source": [
    "By looking at graph 6, we see that the 'B' feature distributes almost normally. As a result, we can use boxplot to detect and remove the outliers that higher or lower than the interquartile range. <br>\n",
    "\n",
    "Due to its distribution, we choose to fill the missing values with the feature's mean."
   ]
  },
  {
   "cell_type": "code",
   "execution_count": 73,
   "metadata": {},
   "outputs": [
    {
     "data": {
      "text/plain": [
       "Text(0.5, 1.0, 'Graph #16 - B boxplot')"
      ]
     },
     "execution_count": 73,
     "metadata": {},
     "output_type": "execute_result"
    },
    {
     "data": {
      "image/png": "[encoded data removed]",
      "text/plain": [
       "<Figure size 432x288 with 1 Axes>"
      ]
     },
     "metadata": {
      "needs_background": "light"
     },
     "output_type": "display_data"
    }
   ],
   "source": [
    "# Using boxplot to see outliers\n",
    "train.boxplot(column='B')\n",
    "plt.title('Graph #16 - B boxplot', size = 14)"
   ]
  },
  {
   "cell_type": "code",
   "execution_count": 74,
   "metadata": {},
   "outputs": [],
   "source": [
    "def B_feature(train, test):\n",
    "    # Filling missing values in the 'B' feature\n",
    "    train = fill_NA_mean('B', train)\n",
    "\n",
    "    value = mean_value('B', train)\n",
    "    test['B'] = test['B'].fillna(value)\n",
    "\n",
    "    # Removing outliers based on the interquartile range\n",
    "    def remove_outliers_normal_distribution(col, data):\n",
    "        Q1 = data[col].quantile(0.25)\n",
    "        Q3 = data[col].quantile(0.75)\n",
    "        IQR = Q3 - Q1\n",
    "        data = data.drop(data[(data[col] < Q1 - 1.5 * IQR) | (data[col] > Q3 + 1.5 *IQR)].index)\n",
    "        return data\n",
    "\n",
    "    train = remove_outliers_normal_distribution('B', train)\n",
    "\n",
    "    return train, test"
   ]
  },
  {
   "cell_type": "code",
   "execution_count": 75,
   "metadata": {},
   "outputs": [],
   "source": [
    "train, test = B_feature(train, test)"
   ]
  },
  {
   "cell_type": "markdown",
   "metadata": {},
   "source": [
    "### 15. 'C'"
   ]
  },
  {
   "cell_type": "code",
   "execution_count": 76,
   "metadata": {},
   "outputs": [
    {
     "data": {
      "text/plain": [
       "<matplotlib.axes._subplots.AxesSubplot at 0x23ec2e6c670>"
      ]
     },
     "execution_count": 76,
     "metadata": {},
     "output_type": "execute_result"
    },
    {
     "data": {
      "image/png": "[encoded data removed]",
      "text/plain": [
       "<Figure size 720x360 with 1 Axes>"
      ]
     },
     "metadata": {
      "needs_background": "light"
     },
     "output_type": "display_data"
    }
   ],
   "source": [
    "# Plotting the value counts of this feature based on the label\n",
    "plt.figure(figsize=(10,5))\n",
    "plt.title(\"Graph #17 - C behavior when the label is '1' or '0'\", size = 14)\n",
    "sns.countplot(x='C',hue='purchase',data=data)"
   ]
  },
  {
   "cell_type": "markdown",
   "metadata": {},
   "source": [
    "After deep thinking, we decide to remove this feature.<br>\n",
    "As we can see from the graph above that the values distibute the same no matter what are the label and the value."
   ]
  },
  {
   "cell_type": "code",
   "execution_count": 77,
   "metadata": {},
   "outputs": [],
   "source": [
    "list_to_drop.append('C')"
   ]
  },
  {
   "cell_type": "markdown",
   "metadata": {},
   "source": [
    "Before we decided dropping 'C' feature, we intended to use the following code in this feature's preproccessing:\n",
    "\n",
    "    Creating a function that fills the missing values in a unified way.\n",
    "    \n",
    "    def fill_na_all_value(data):\n",
    "    list_c_missing_value= ['log202','log404','log_100','log200','log400','log8080']\n",
    "    for i in range(data['C'].isnull().sum()):\n",
    "        data['C'] = data['C'].fillna(list_c_missing_value[i % len(list_c_missing_value)],limit=1)\n",
    "        return data\n",
    "\n",
    "    x_train = fill_na_all_value(x_train)\n",
    "    x_test = fill_na_all_value(x_test)\n",
    "\n",
    "    x_train = pd.get_dummies(x_train, prefix=\"C\", columns=[\"C\"], drop_first=False)\n",
    "    x_test = pd.get_dummies(x_test, prefix=\"C\", columns=[\"C\"], drop_first=False)"
   ]
  },
  {
   "cell_type": "markdown",
   "metadata": {},
   "source": [
    "### Creating a new feature"
   ]
  },
  {
   "cell_type": "markdown",
   "metadata": {},
   "source": [
    "We saw that 'BounceRates' and 'ExitRates' have very high correlation:"
   ]
  },
  {
   "cell_type": "code",
   "execution_count": 78,
   "metadata": {},
   "outputs": [
    {
     "name": "stdout",
     "output_type": "stream",
     "text": [
      "0.8950889877994057\n"
     ]
    }
   ],
   "source": [
    "print(train['BounceRates'].corr(train['ExitRates']))"
   ]
  },
  {
   "cell_type": "markdown",
   "metadata": {},
   "source": [
    "As a result, we decide to create a new feature that combines both of the features.<br>\n",
    "Now, we should check the correlation of both features with the label: "
   ]
  },
  {
   "cell_type": "code",
   "execution_count": 79,
   "metadata": {},
   "outputs": [
    {
     "name": "stdout",
     "output_type": "stream",
     "text": [
      "-0.1500978118237789\n",
      "-0.2030950761022966\n"
     ]
    }
   ],
   "source": [
    "print(train['BounceRates'].corr(train['purchase']))\n",
    "print(train['ExitRates'].corr(train['purchase']))"
   ]
  },
  {
   "cell_type": "markdown",
   "metadata": {},
   "source": [
    "Due to its higher correlation with the label, we set a higher weight in the new feature to 'ExitRates' than the 'BounceRates', as followed:"
   ]
  },
  {
   "cell_type": "code",
   "execution_count": 80,
   "metadata": {},
   "outputs": [],
   "source": [
    "def newrate_feature(train, test):\n",
    "    train['MixedRates'] = 0.6 * train['ExitRates'] + 0.4 * train['BounceRates']\n",
    "    test['MixedRates'] = 0.6 * test['ExitRates'] + 0.4 * test['BounceRates']\n",
    "\n",
    "    # Adding the old features to future removal\n",
    "    list_to_drop.append('ExitRates')\n",
    "    list_to_drop.append('BounceRates')\n",
    "\n",
    "    return train, test"
   ]
  },
  {
   "cell_type": "code",
   "execution_count": 81,
   "metadata": {},
   "outputs": [],
   "source": [
    "train, test = newrate_feature(train, test)"
   ]
  },
  {
   "cell_type": "markdown",
   "metadata": {},
   "source": [
    "### Dropping unnecessary features"
   ]
  },
  {
   "cell_type": "markdown",
   "metadata": {},
   "source": [
    "Right now, we see which features we decided to drop and dropping it."
   ]
  },
  {
   "cell_type": "code",
   "execution_count": 82,
   "metadata": {},
   "outputs": [
    {
     "data": {
      "text/plain": [
       "['D', 'id', 'C', 'ExitRates', 'BounceRates']"
      ]
     },
     "execution_count": 82,
     "metadata": {},
     "output_type": "execute_result"
    }
   ],
   "source": [
    "# Viewing the list of features to drop\n",
    "list_to_drop"
   ]
  },
  {
   "cell_type": "code",
   "execution_count": 83,
   "metadata": {},
   "outputs": [],
   "source": [
    "def dropping_features(train, test):\n",
    "    train.drop(list_to_drop, axis=1, inplace=True)\n",
    "    test.drop(list_to_drop, axis=1, inplace=True)\n",
    "    \n",
    "    # Moving the 'purchase' to be the last column\n",
    "    train = train[[ col for col in train.columns if col != 'purchase' ] + ['purchase']]\n",
    "    return train, test"
   ]
  },
  {
   "cell_type": "code",
   "execution_count": 84,
   "metadata": {},
   "outputs": [],
   "source": [
    "train, test = dropping_features(train, test)"
   ]
  },
  {
   "cell_type": "markdown",
   "metadata": {},
   "source": [
    "### Data normalization"
   ]
  },
  {
   "cell_type": "markdown",
   "metadata": {},
   "source": [
    "In order to make all the features contribute equally to the models that we'll use, we have to scale or normalize the data. <br>\n",
    "We saw that almost all the features don't distribute normally. <br>\n",
    "Therefore, we choose to scale the data with MinMaxScaler and not with a function which assumes that the data distributes normally.<br>\n",
    "The MinMaxScaler function transforms features by scaling each feature to a given range. The range in our function translates and scales each feature between 0 and 1."
   ]
  },
  {
   "cell_type": "code",
   "execution_count": 85,
   "metadata": {},
   "outputs": [],
   "source": [
    "# Creating a function that scales the data\n",
    "def Min_Max_Scaling(data):\n",
    "    Min_Max_scaler = MinMaxScaler().fit(data)\n",
    "    data = pd.DataFrame(Min_Max_scaler.transform(data), index=data.index, columns=data.columns)\n",
    "    return data"
   ]
  },
  {
   "cell_type": "code",
   "execution_count": 86,
   "metadata": {},
   "outputs": [],
   "source": [
    "def normalization(train):\n",
    "    train = Min_Max_Scaling(train)\n",
    "    return train"
   ]
  },
  {
   "cell_type": "code",
   "execution_count": 87,
   "metadata": {},
   "outputs": [],
   "source": [
    "train = normalization(train)"
   ]
  },
  {
   "cell_type": "markdown",
   "metadata": {},
   "source": [
    "### Splitting the data into train and validation"
   ]
  },
  {
   "cell_type": "code",
   "execution_count": 88,
   "metadata": {},
   "outputs": [],
   "source": [
    "def split_data(train):\n",
    "    # A new variable that stores all the features except to the label\n",
    "    x_col = train.columns[:-1]\n",
    "\n",
    "    # Splitting the data to train and validation sets\n",
    "    x1_train, y1_train = train.values[:,:-1], train.values[:,-1]\n",
    "    x_train, x_val, y_train, y_val = train_test_split(x1_train, y1_train, test_size = 0.2, random_state= 42, shuffle=True)\n",
    "    return x_train, x_val, y_train, y_val, x_col"
   ]
  },
  {
   "cell_type": "code",
   "execution_count": 89,
   "metadata": {},
   "outputs": [],
   "source": [
    "x_train, x_val, y_train, y_val, x_col = split_data(train)"
   ]
  },
  {
   "cell_type": "markdown",
   "metadata": {},
   "source": [
    "### Feature selection - Dimensionality  reduction"
   ]
  },
  {
   "cell_type": "code",
   "execution_count": 90,
   "metadata": {},
   "outputs": [
    {
     "name": "stdout",
     "output_type": "stream",
     "text": [
      "the number of features right now:  63\n"
     ]
    }
   ],
   "source": [
    "print(\"the number of features right now: \", x_train.shape[1])"
   ]
  },
  {
   "cell_type": "markdown",
   "metadata": {},
   "source": [
    "Dimensiontality reduction is a vital process in order to improve the models and mitigate overfitting. <br>The Bias-Variance trade-off is influenced by the number of features in the data.<br>\n",
    "Having many features (more dimensions = more complexity) lead to high variance while the bias getting lower. <br>High dimensionality may affect the models negatively and may cause to overfitting, which we want to avoid.<br> Consequently, we want to be somewhere in the middle - where both the bias and variance are not too high and not too low."
   ]
  },
  {
   "cell_type": "markdown",
   "metadata": {},
   "source": [
    "First, we tried to use PCA to redeuce the number of features.\n",
    "\n",
    "The function we wrote:\n",
    "    \n",
    "    pca = PCA(0.99)\n",
    "    pca.fit(x_train)\n",
    "    x_train = pd.DataFrame(pca.transform(x_train))\n",
    "\n",
    "    pca2 = PCA(n_components=len(x_train.columns))\n",
    "    pca2.fit(x_val)\n",
    "    x_val = pd.DataFrame(pca2.transform(x_val))\n",
    "\n",
    "**We didn't choose it eventually.**"
   ]
  },
  {
   "cell_type": "markdown",
   "metadata": {},
   "source": [
    "At last, we used 'SelectKBest' with score function of 'chi2' to find the best features for the model.<br>\n",
    "We tried to find the ideal 'K'. After few tries, we concluded that the ideal would be K = 30.\n",
    "\n",
    "The function we wrote:"
   ]
  },
  {
   "cell_type": "code",
   "execution_count": 91,
   "metadata": {},
   "outputs": [],
   "source": [
    "def select_k_best(x_train, x_val, x_test,x_col):\n",
    "    selector = SelectKBest(score_func=chi2, k=30)\n",
    "    selector.fit(x_train, y_train)\n",
    "\n",
    "    cols = selector.get_support(indices=True)\n",
    "    x_train = pd.DataFrame(data = selector.transform(x_train), columns = x_col[cols])\n",
    "    \n",
    "    x_val = x_val[:,cols]\n",
    "    x_val = pd.DataFrame(data = x_val, columns = x_col[cols])\n",
    "\n",
    "    x_test = pd.DataFrame(data = x_test, columns = x_col[cols])\n",
    "    return x_train, x_val, x_test"
   ]
  },
  {
   "cell_type": "code",
   "execution_count": 92,
   "metadata": {},
   "outputs": [],
   "source": [
    "x_train, x_val, test = select_k_best(x_train, x_val, test,x_col)"
   ]
  },
  {
   "cell_type": "code",
   "execution_count": 93,
   "metadata": {},
   "outputs": [],
   "source": [
    "# Converting the labels to pandas data frame\n",
    "y_val = pd.DataFrame(data = y_val)\n",
    "y_train = pd.DataFrame(data = y_train)\n",
    "\n",
    "# Concatenating the train and validation data sets\n",
    "x_all_data = pd.concat([x_train,x_val])\n",
    "y_all_data = pd.concat([y_train,y_val])"
   ]
  },
  {
   "cell_type": "markdown",
   "metadata": {},
   "source": [
    "## <u> Models <u>"
   ]
  },
  {
   "cell_type": "markdown",
   "metadata": {},
   "source": [
    "For each of the models we will run, we'll use GridSearch in order to find the optimal values for the main parameters of the model.<br> "
   ]
  },
  {
   "cell_type": "markdown",
   "metadata": {},
   "source": [
    "### Logistic Regression"
   ]
  },
  {
   "cell_type": "code",
   "execution_count": 94,
   "metadata": {},
   "outputs": [
    {
     "name": "stdout",
     "output_type": "stream",
     "text": [
      "Best Params: {'C': 1, 'l1_ratio': 0.5, 'max_iter': 70, 'penalty': 'l1', 'solver': 'saga', 'tol': 0.0001} \n",
      "\n"
     ]
    }
   ],
   "source": [
    "# Logistic Regression model\n",
    "parameters = {\n",
    "'penalty': ['l2', 'l1', 'elasticnet'],\n",
    "    'tol': [0.1, 0.001, 0.0001],\n",
    "    'C' : [1, 0.1, 0.01, 0.001],\n",
    "    'solver' :['saga'],\n",
    "    'l1_ratio' : [0.5, 0.8, 1, None],\n",
    "    'max_iter' :[70, 85, 100]\n",
    "}\n",
    "clf = LogisticRegression(random_state=0)\n",
    "gscv = GridSearchCV(clf, parameters, scoring='roc_auc')\n",
    "gscv.fit(x_train, y_train)\n",
    "\n",
    "best_params = gscv.best_params_\n",
    "best_score = gscv.best_score_\n",
    "print(f'Best Params: {best_params} \\n')\n"
   ]
  },
  {
   "cell_type": "markdown",
   "metadata": {},
   "source": [
    "### KNN"
   ]
  },
  {
   "cell_type": "code",
   "execution_count": 95,
   "metadata": {},
   "outputs": [
    {
     "name": "stdout",
     "output_type": "stream",
     "text": [
      "Best Params: {'algorithm': 'auto', 'leaf_size': 20, 'n_neighbors': 150, 'weights': 'distance'} \n",
      "\n"
     ]
    }
   ],
   "source": [
    "# KNN model\n",
    "parameters = {\n",
    "    'n_neighbors': [15,40,150],\n",
    "    'algorithm': ['auto', 'ball_tree', 'kd_tree'],\n",
    "    'weights': ['uniform', 'distance'],\n",
    "    'leaf_size' : [20, 30,70,100]\n",
    "}\n",
    "clf = KNeighborsClassifier()\n",
    "gscv = GridSearchCV(clf, parameters, scoring='roc_auc')\n",
    "gscv.fit(x_train, y_train)\n",
    "\n",
    "best_params = gscv.best_params_\n",
    "best_score = gscv.best_score_\n",
    "print(f'Best Params: {best_params} \\n')"
   ]
  },
  {
   "cell_type": "markdown",
   "metadata": {},
   "source": [
    "### Random Forest"
   ]
  },
  {
   "cell_type": "code",
   "execution_count": 96,
   "metadata": {},
   "outputs": [
    {
     "name": "stdout",
     "output_type": "stream",
     "text": [
      "Best Params: {'criterion': 'entropy', 'max_depth': 50, 'min_samples_leaf': 2, 'min_samples_split': 8, 'n_estimators': 200} \n",
      "\n"
     ]
    }
   ],
   "source": [
    "# Random Forest model\n",
    "parameters = {\n",
    "    'n_estimators':[100, 200],\n",
    "    'criterion':['gini', 'entropy'],\n",
    "    'max_depth':[50, 70, None],\n",
    "    'min_samples_leaf':[1, 2],   \n",
    "    'min_samples_split':[2, 8]\n",
    "}\n",
    "\n",
    "clf = RandomForestClassifier(random_state=0)\n",
    "gscv = GridSearchCV(clf, parameters, scoring='roc_auc')\n",
    "gscv.fit(x_train, y_train)\n",
    "\n",
    "best_params = gscv.best_params_\n",
    "best_score = gscv.best_score_\n",
    "print(f'Best Params: {best_params} \\n')"
   ]
  },
  {
   "cell_type": "markdown",
   "metadata": {},
   "source": [
    "### MLP"
   ]
  },
  {
   "cell_type": "code",
   "execution_count": 97,
   "metadata": {},
   "outputs": [
    {
     "name": "stdout",
     "output_type": "stream",
     "text": [
      "Best Params: {'activation': 'logistic', 'alpha': 0.0001, 'hidden_layer_sizes': 130, 'learning_rate_init': 0.01, 'max_iter': 100} \n",
      "\n"
     ]
    }
   ],
   "source": [
    "# MLP model\n",
    "parameters = {\n",
    "    'hidden_layer_sizes':[100, 130],\n",
    "    'activation':['relu', 'logistic'],\n",
    "    'alpha':[0.1, 0.0001],\n",
    "    'learning_rate_init':[0.01, 0.001],   \n",
    "    'max_iter':[50, 100]\n",
    "}\n",
    "\n",
    "clf = MLPClassifier(random_state=0)\n",
    "gscv = GridSearchCV(clf, parameters, scoring='roc_auc')\n",
    "gscv.fit(x_train, y_train)\n",
    "\n",
    "best_params = gscv.best_params_\n",
    "best_score = gscv.best_score_\n",
    "print(f'Best Params: {best_params} \\n')"
   ]
  },
  {
   "cell_type": "markdown",
   "metadata": {},
   "source": [
    "###  Running the chosen models"
   ]
  },
  {
   "cell_type": "code",
   "execution_count": 98,
   "metadata": {},
   "outputs": [],
   "source": [
    "LR = LogisticRegression(C=1, l1_ratio=0.5, max_iter=70, penalty='l1', solver='saga', tol= 0.0001)\n",
    "KNN = KNeighborsClassifier(algorithm='auto', leaf_size=20, n_neighbors=150, weights='distance')\n",
    "RF = RandomForestClassifier(criterion='entropy', max_depth=50, min_samples_leaf=2, min_samples_split=8, n_estimators=200)\n",
    "MLP = MLPClassifier(activation='logistic', alpha=0.0001, hidden_layer_sizes=130, learning_rate_init=0.01, max_iter=100)"
   ]
  },
  {
   "cell_type": "markdown",
   "metadata": {},
   "source": [
    "### Models evaluation"
   ]
  },
  {
   "cell_type": "markdown",
   "metadata": {},
   "source": [
    "#### K-Fold Cross Validation"
   ]
  },
  {
   "cell_type": "markdown",
   "metadata": {},
   "source": [
    "In order to evaluate the models, we use only the train data set after the split and not using the validation data after the split (we want the validation to be like a test set).<br>\n",
    "\n",
    "In this section, we want to run K-Fold twice. <br>\n",
    "The first one will be the validation we would get from the K-Fold (not the validation from the split).<br>\n",
    "The second will be the train we would get from the K-Fold.<br>\n",
    "\n",
    "\n",
    "We have two goals in this proccess. First, choosing the ideal model by the mean auc results.<br>\n",
    "Furthermore, understanding the gaps between the train's results to the validation's results mainly to avoid overfitting.<br>\n",
    "\n",
    "We build a K-Fold function that splits the data for each model to 12 folds, plots the suitable ruc and eventually displays the mean roc in the same graph."
   ]
  },
  {
   "cell_type": "code",
   "execution_count": 99,
   "metadata": {},
   "outputs": [],
   "source": [
    "def K_fold_validaion(data, labels, model, k, model_name):\n",
    "    # Converting the dataframes to numpy arrays\n",
    "    data = data.to_numpy()\n",
    "    labels = labels.to_numpy()\n",
    "    \n",
    "    # For calculating the mean roc_curve\n",
    "    mean_fpr = np.linspace(0, 1, 100)\n",
    "    tprs = []\n",
    "\n",
    "    # Plotting the random guess line:\n",
    "    plt.plot([0,1],[0,1],linestyle='--', color='lightcoral')\n",
    "\n",
    "    # Creating K-Fold Cross Validation:\n",
    "    kf = KFold(n_splits=k, shuffle=True)\n",
    "\n",
    "    for train_index, test_index in kf.split(data):\n",
    "        data_train, data_val = data[train_index], data[test_index]\n",
    "        data_train_labels, data_val_labels = labels[train_index], labels[test_index]\n",
    "        model.fit(data_train, data_train_labels)\n",
    "        y_prob = model.predict_proba(data_val)\n",
    "        y_prob = y_prob[:,1]\n",
    "\n",
    "        # Plotting the ROC curve\n",
    "        fpr, tpr, thresholds = roc_curve(data_val_labels, y_prob)\n",
    "        plt.plot(fpr,tpr,color='mistyrose')\n",
    "\n",
    "        # For calculating the mean roc_curve\n",
    "        interp_tpr = np.interp(mean_fpr, fpr, tpr)\n",
    "        interp_tpr[0] = 0.0\n",
    "        tprs.append(interp_tpr)\n",
    "        \n",
    "    mean_tpr = np.mean(tprs, axis=0)\n",
    "    mean_tpr[-1] = 1.0\n",
    "    mean_auc = auc(mean_fpr, mean_tpr)\n",
    "    plt.plot(mean_fpr, mean_tpr, color='maroon', label='Mean ROC (AUC = %0.3f)' % mean_auc)\n",
    "    plt.xlabel('False Positive Rate')\n",
    "    plt.ylabel('True Positive Rate')\n",
    "    plt.title('The validation ROC curve for {} model'.format(model_name))\n",
    "    plt.legend()\n",
    "    plt.show()\n",
    "    return \n"
   ]
  },
  {
   "cell_type": "markdown",
   "metadata": {},
   "source": [
    "We choose to set the 'k' to k = 12. Now, we want to see the results:"
   ]
  },
  {
   "cell_type": "code",
   "execution_count": 100,
   "metadata": {},
   "outputs": [
    {
     "data": {
      "image/png": "[encoded data removed]",
      "text/plain": [
       "<Figure size 432x288 with 1 Axes>"
      ]
     },
     "metadata": {
      "needs_background": "light"
     },
     "output_type": "display_data"
    },
    {
     "data": {
      "image/png": "[encoded data removed]",
      "text/plain": [
       "<Figure size 432x288 with 1 Axes>"
      ]
     },
     "metadata": {
      "needs_background": "light"
     },
     "output_type": "display_data"
    },
    {
     "data": {
      "image/png": "[encoded data removed]",
      "text/plain": [
       "<Figure size 432x288 with 1 Axes>"
      ]
     },
     "metadata": {
      "needs_background": "light"
     },
     "output_type": "display_data"
    },
    {
     "data": {
      "image/png": "[encoded data removed]",
      "text/plain": [
       "<Figure size 432x288 with 1 Axes>"
      ]
     },
     "metadata": {
      "needs_background": "light"
     },
     "output_type": "display_data"
    }
   ],
   "source": [
    "# Plotting the validation's ROC curve for each model\n",
    "\n",
    "K_fold_validaion(x_train, y_train, LR, 12, \"Logistic Regression\")\n",
    "K_fold_validaion(x_train, y_train, KNN, 12, \"KNN\")\n",
    "K_fold_validaion(x_train, y_train, RF, 12, \"Random Forest\")\n",
    "K_fold_validaion(x_train, y_train, MLP, 12, \"MLP\")"
   ]
  },
  {
   "cell_type": "code",
   "execution_count": 101,
   "metadata": {},
   "outputs": [],
   "source": [
    "def K_fold_train(data, labels, model, k, model_name):\n",
    "    # Converting the dataframes to numpy arrays\n",
    "    data = data.to_numpy()\n",
    "    labels = labels.to_numpy()\n",
    "    \n",
    "    # For calculating the mean roc_curve\n",
    "    mean_fpr = np.linspace(0, 1, 100)\n",
    "    tprs = []\n",
    "\n",
    "    # Plotting the random guess line:\n",
    "    plt.plot([0,1],[0,1],linestyle='--', color='lightcoral')\n",
    "\n",
    "    # Creating K-Fold Cross Validation:\n",
    "    kf = KFold(n_splits=k, shuffle=True)\n",
    "\n",
    "    for train_index, test_index in kf.split(data):\n",
    "        data_train, data_val = data[train_index], data[test_index]\n",
    "        data_train_labels, data_val_labels = labels[train_index], labels[test_index]\n",
    "        model.fit(data_train, data_train_labels)\n",
    "        y_prob = model.predict_proba(data_train)\n",
    "        y_prob = y_prob[:,1]\n",
    "\n",
    "        # Plotting the ROC curve\n",
    "        fpr, tpr, thresholds = roc_curve(data_train_labels, y_prob)\n",
    "        plt.plot(fpr,tpr,color='mistyrose')\n",
    "\n",
    "        # For calculating the mean roc_curve\n",
    "        interp_tpr = np.interp(mean_fpr, fpr, tpr)\n",
    "        interp_tpr[0] = 0.0\n",
    "        tprs.append(interp_tpr)\n",
    "        \n",
    "    mean_tpr = np.mean(tprs, axis=0)\n",
    "    mean_tpr[-1] = 1.0\n",
    "    mean_auc = auc(mean_fpr, mean_tpr)\n",
    "    plt.plot(mean_fpr, mean_tpr, color='maroon', label='Mean ROC (AUC = %0.3f)' % mean_auc)\n",
    "    plt.xlabel('False Positive Rate')\n",
    "    plt.ylabel('True Positive Rate')\n",
    "    plt.title('The train ROC curve for {} model'.format(model_name))\n",
    "    plt.legend()\n",
    "    plt.show()\n",
    "    return \n"
   ]
  },
  {
   "cell_type": "code",
   "execution_count": 102,
   "metadata": {},
   "outputs": [
    {
     "data": {
      "image/png": "[encoded data removed]",
      "text/plain": [
       "<Figure size 432x288 with 1 Axes>"
      ]
     },
     "metadata": {
      "needs_background": "light"
     },
     "output_type": "display_data"
    },
    {
     "data": {
      "image/png": "[encoded data removed]",
      "text/plain": [
       "<Figure size 432x288 with 1 Axes>"
      ]
     },
     "metadata": {
      "needs_background": "light"
     },
     "output_type": "display_data"
    },
    {
     "data": {
      "image/png": "[encoded data removed]",
      "text/plain": [
       "<Figure size 432x288 with 1 Axes>"
      ]
     },
     "metadata": {
      "needs_background": "light"
     },
     "output_type": "display_data"
    },
    {
     "data": {
      "image/png": "[encoded data removed]",
      "text/plain": [
       "<Figure size 432x288 with 1 Axes>"
      ]
     },
     "metadata": {
      "needs_background": "light"
     },
     "output_type": "display_data"
    }
   ],
   "source": [
    "# Plotting the train's ROC curve for each model\n",
    "\n",
    "K_fold_train(x_train, y_train, LR, 12, \"Logistic Regression\")\n",
    "K_fold_train(x_train, y_train, KNN, 12, \"KNN\")\n",
    "K_fold_train(x_train, y_train, RF, 12, \"Random Forest\")\n",
    "K_fold_train(x_train, y_train, MLP, 12, \"MLP\")"
   ]
  },
  {
   "cell_type": "markdown",
   "metadata": {},
   "source": [
    "The model we choose is **Random Forest** because it gave us the higher mean roc.<br>\n",
    "Although other models have lower gaps in the results between the train and the validation, the gap in the Random Forest is legit.<br>\n",
    "When we focus in the macro level, this model is the appropriate choice."
   ]
  },
  {
   "cell_type": "markdown",
   "metadata": {},
   "source": [
    "## Confusion Matrix"
   ]
  },
  {
   "cell_type": "code",
   "execution_count": 103,
   "metadata": {},
   "outputs": [
    {
     "data": {
      "text/plain": [
       "RandomForestClassifier(criterion='entropy', max_depth=50, min_samples_leaf=2,\n",
       "                       min_samples_split=8, n_estimators=200)"
      ]
     },
     "execution_count": 103,
     "metadata": {},
     "output_type": "execute_result"
    }
   ],
   "source": [
    "# Fitting the chosen model\n",
    "RF.fit(x_train, y_train)"
   ]
  },
  {
   "cell_type": "code",
   "execution_count": 104,
   "metadata": {},
   "outputs": [
    {
     "name": "stdout",
     "output_type": "stream",
     "text": [
      "The accuracy of the validation data: 0.9053457577243746\n"
     ]
    },
    {
     "data": {
      "image/png": "[encoded data removed]",
      "text/plain": [
       "<Figure size 432x288 with 2 Axes>"
      ]
     },
     "metadata": {
      "needs_background": "light"
     },
     "output_type": "display_data"
    }
   ],
   "source": [
    "# Running a confusion matrix on the validation data of the chosen model\n",
    "tn_val, fp_val, fn_val, tp_val = confusion_matrix(y_val,RF.predict(x_val)).ravel()\n",
    "confusion_matrix_val = np.array([[tp_val, fp_val],[fn_val, tn_val]])\n",
    "\n",
    "print(\"The accuracy of the validation data:\", (tp_val + tn_val) / (tn_val + fp_val + fn_val + tp_val))\n",
    "sns.heatmap(confusion_matrix_val, annot=True, fmt='g', cmap='Greens', xticklabels = [0,1], yticklabels = [0,1])\n",
    "plt.title('Confusion Matrix')\n",
    "plt.show()"
   ]
  },
  {
   "cell_type": "markdown",
   "metadata": {},
   "source": [
    "For Random Forest model Confusion Matrix:\n",
    "\n",
    "* TP describes the sitautaion that the user purchased and the model predicted it.\n",
    "\n",
    "* TN describes the sitautaion that the user didn't purchase and the model predicted it.\n",
    "\n",
    "* FP describes the sitautaion that the user didn't purchase but the model predicted that he purchased.\n",
    "\n",
    "* FN describes the sitautaion that the user purchased but the model predicted that he didn't purchase."
   ]
  },
  {
   "cell_type": "markdown",
   "metadata": {},
   "source": [
    "To establish our model choice we plot the roc curves of the train and validation."
   ]
  },
  {
   "cell_type": "code",
   "execution_count": 105,
   "metadata": {},
   "outputs": [],
   "source": [
    "def plot_auc_and_roc(x, y, state):\n",
    "    fpr, tpr, thresholds = roc_curve(y, RF.predict_proba(x)[:,1])\n",
    "    auc = roc_auc_score(y, RF.predict_proba(x)[:,1])\n",
    "\n",
    "    plt.plot(fpr, tpr, color='Blue')\n",
    "    plt.plot([0, 1], [0, 1], color='Blue', linestyle='--')\n",
    "    plt.ylabel('True Positive Rate')\n",
    "    plt.xlabel('False Positive Rate')   \n",
    "    plt.title(f'ROC Curve of {state} (AUC = %0.3f)' % auc)\n",
    "    plt.show()"
   ]
  },
  {
   "cell_type": "code",
   "execution_count": 106,
   "metadata": {},
   "outputs": [
    {
     "data": {
      "image/png": "[encoded data removed]",
      "text/plain": [
       "<Figure size 432x288 with 1 Axes>"
      ]
     },
     "metadata": {
      "needs_background": "light"
     },
     "output_type": "display_data"
    },
    {
     "data": {
      "image/png": "[encoded data removed]",
      "text/plain": [
       "<Figure size 432x288 with 1 Axes>"
      ]
     },
     "metadata": {
      "needs_background": "light"
     },
     "output_type": "display_data"
    }
   ],
   "source": [
    "plot_auc_and_roc(x_train, y_train, 'train')\n",
    "plot_auc_and_roc(x_val, y_val, 'validation')"
   ]
  },
  {
   "cell_type": "markdown",
   "metadata": {},
   "source": [
    "### Predictions "
   ]
  },
  {
   "cell_type": "markdown",
   "metadata": {},
   "source": [
    "At the end of the project, we fit the Random Forest model on the whole train data and predict the test set results."
   ]
  },
  {
   "cell_type": "code",
   "execution_count": 107,
   "metadata": {},
   "outputs": [],
   "source": [
    "RF_final = RF.fit(x_all_data ,y_all_data)"
   ]
  },
  {
   "cell_type": "code",
   "execution_count": 108,
   "metadata": {},
   "outputs": [],
   "source": [
    "def  Probabilities_Prediction(test,model):\n",
    "        \n",
    "    predictions = pd.DataFrame(data = model.predict_proba(test)[:,1])\n",
    "    predictions = predictions.rename(columns = {0:'predict_prob'})\n",
    "    predictions.insert(0, 'id', range(0,test.shape[0]))\n",
    "    predictions.to_csv(\"Submission_group_12.csv\", index = False)\n"
   ]
  },
  {
   "cell_type": "code",
   "execution_count": 109,
   "metadata": {},
   "outputs": [],
   "source": [
    "Probabilities_Prediction(test, RF_final)"
   ]
  },
  {
   "cell_type": "markdown",
   "metadata": {},
   "source": [
    "### Pipeline"
   ]
  },
  {
   "cell_type": "markdown",
   "metadata": {},
   "source": [
    "The pipeline is a way to codify and automate the project's workflow.<br>\n",
    "The pipeline consists of multiple sequential steps that do everything from preprocessing to model training and deployment.\n",
    "\n",
    "The output of the pipeline will be a csv file with the test set predictions."
   ]
  },
  {
   "cell_type": "code",
   "execution_count": 110,
   "metadata": {},
   "outputs": [],
   "source": [
    "def pipeline(train, test):\n",
    "    \n",
    "    train, test = admin_features(train,test)\n",
    "    train, test = info_features(train,test)\n",
    "    train, test = product_features(train,test)\n",
    "    train, test = total_duration_feature(train,test)\n",
    "    train, test = rate_features(train,test)\n",
    "    train, test = pagevalue_and_closeness_to_holiday_features(train,test)\n",
    "    train, test = month_feature(train,test)\n",
    "    train, test = device_feature(train,test)\n",
    "    train, test = internetbrowser_feature(train,test)\n",
    "    train, test = region_feature(train,test)\n",
    "    train, test = usertype_feature(train,test)\n",
    "    train, test = weekend_feature(train,test)\n",
    "    train, test = A_feature(train,test)\n",
    "    train, test = B_feature(train,test)\n",
    "    train, test = newrate_feature(train,test)\n",
    "    train, test = dropping_features(train,test)\n",
    "    train = normalization(train)\n",
    "    x_train, x_val, y_train, y_val, x_col = split_data(train)\n",
    "    x_train, x_val, test = select_k_best(x_train, x_val, test, x_col)\n",
    "    y_val = pd.DataFrame(data = y_val)\n",
    "    y_train = pd.DataFrame(data = y_train)\n",
    "    x_all_data = pd.concat([x_train, x_val])\n",
    "    y_all_data = pd.concat([y_train, y_val])\n",
    "    clf_RF = RandomForestClassifier(n_estimators=200, criterion='entropy', max_depth=50, min_samples_leaf=2, min_samples_split=8).fit(x_all_data,y_all_data)\n",
    "    Probabilities_Prediction(test, clf_RF)"
   ]
  },
  {
   "cell_type": "markdown",
   "metadata": {},
   "source": [
    "We wrote the following code for running the pipeline in a comment, because we already did the prediction above.\n"
   ]
  },
  {
   "cell_type": "code",
   "execution_count": 111,
   "metadata": {},
   "outputs": [],
   "source": [
    "#pipeline(train_pipeline, test_pipeline)"
   ]
  }
 ],
 "metadata": {
  "anaconda-cloud": {},
  "interpreter": {
   "hash": "54dcad81ffea463f7c5e68447ac9ad24ef5b6eb9efbe65125181854e05688409"
  },
  "kernelspec": {
   "display_name": "Python 3.8.3 ('base')",
   "language": "python",
   "name": "python3"
  },
  "language_info": {
   "codemirror_mode": {
    "name": "ipython",
    "version": 3
   },
   "file_extension": ".py",
   "mimetype": "text/x-python",
   "name": "python",
   "nbconvert_exporter": "python",
   "pygments_lexer": "ipython3",
   "version": "3.8.3"
  },
  "toc": {
   "base_numbering": 1,
   "nav_menu": {},
   "number_sections": true,
   "sideBar": true,
   "skip_h1_title": false,
   "title_cell": "Table of Contents",
   "title_sidebar": "Contents",
   "toc_cell": false,
   "toc_position": {},
   "toc_section_display": true,
   "toc_window_display": true
  }
 },
 "nbformat": 4,
 "nbformat_minor": 1
}
